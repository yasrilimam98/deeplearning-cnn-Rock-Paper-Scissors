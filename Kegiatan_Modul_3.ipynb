{
  "nbformat": 4,
  "nbformat_minor": 0,
  "metadata": {
    "accelerator": "GPU",
    "colab": {
      "name": "Kegiatan_Modul_3.ipynb",
      "provenance": [],
      "collapsed_sections": [],
      "toc_visible": true
    },
    "kernelspec": {
      "display_name": "Python 3",
      "name": "python3"
    }
  },
  "cells": [
    {
      "cell_type": "markdown",
      "metadata": {
        "id": "u6kTqqtESNnc"
      },
      "source": [
        "# **Kegiatan Modul 3**\n",
        "\n",
        "**Poin penilaian :**\n",
        "\n",
        "* Tingkat kesesuaian code\n",
        "* Tingkat kesesuaian output\n",
        "* Kesesuaian step preprocessing dan pemodelan\n",
        "* Kesesuaian jawaban dengan konten materi modul\n",
        "* Pemahaman materi tentang Dropout dan BatchNormalization\n",
        "* Dapat menerapkan semua konten materi dalam modul-modul sebelumnya\n",
        "* Kerapian kode program\n",
        "* Tidak ada error\n",
        "* Nilai Maksimal 100 poin"
      ]
    },
    {
      "cell_type": "markdown",
      "metadata": {
        "id": "-muSoJjnFt8y"
      },
      "source": [
        "## **Introduction**\n",
        "\n",
        "Dataset yang akan anda gunakan dalam kegiatan ini adalah dataset [Rock Paper Scissors](https://www.kaggle.com/drgfreeman/rockpaperscissors).  Demi mempermudah anda dalam mengerjakan modul ini maka akan sangat disarankan untuk menggunakan [google colab](https://colab.research.google.com/). Anda dapat menggunakan google colab untuk mendownload langsung dataset dari kaggle dan menyimpannya dalam google drive anda. Untuk kenyamanan dan ruang kerja yang besar akan lebih baik anda menggunakan email kampus untuk menyimpan dataset yang anda gunakan. Perhatikan langkah berikut untuk melakukan setting environment anda."
      ]
    },
    {
      "cell_type": "markdown",
      "metadata": {
        "id": "fLoYIWSbKgko"
      },
      "source": [
        "## **Get Your Dataset**\n",
        "\n",
        "* Mount drive terlebih dahulu\n",
        "\n",
        "* Untuk dapat mengakses dataset ini anda diharuskan memiliki akun kaggle. Jika belum memilikinya buat satu akun pribadi.\n",
        "\n",
        "* Download kaggle API.json kemudian upload dalam google drive anda.\n",
        "\n",
        "* Ubah lokasi direktori kerja anda ke direktori dimana anda menyimpan kaggle.json\n",
        "\n",
        "* Buka laman dataset kemudian Copy API Command.\n",
        "\n",
        "* Jalankan perintah untuk mendownload dataset dari kaggle menggunakan google colab.\n",
        "\n",
        "* Untuk selanjutnya pahami code dibawah dengan baik.\n",
        "\n",
        "* Gunakan tutorial berikut untuk lebih jelasnya : [Fetch Kaggle Dataset into Google Colab](https://medium.com/analytics-vidhya/how-to-fetch-kaggle-datasets-into-google-colab-ea682569851a)\n"
      ]
    },
    {
      "cell_type": "code",
      "metadata": {
        "id": "HXwFVqCfMevS",
        "colab": {
          "base_uri": "https://localhost:8080/"
        },
        "outputId": "bf1f1f4e-900a-409a-c59a-7a6ecff0f4c7"
      },
      "source": [
        "pip install kaggle"
      ],
      "execution_count": null,
      "outputs": [
        {
          "output_type": "stream",
          "text": [
            "Requirement already satisfied: kaggle in /usr/local/lib/python3.6/dist-packages (1.5.9)\n",
            "Requirement already satisfied: python-dateutil in /usr/local/lib/python3.6/dist-packages (from kaggle) (2.8.1)\n",
            "Requirement already satisfied: slugify in /usr/local/lib/python3.6/dist-packages (from kaggle) (0.0.1)\n",
            "Requirement already satisfied: python-slugify in /usr/local/lib/python3.6/dist-packages (from kaggle) (4.0.1)\n",
            "Requirement already satisfied: tqdm in /usr/local/lib/python3.6/dist-packages (from kaggle) (4.41.1)\n",
            "Requirement already satisfied: urllib3 in /usr/local/lib/python3.6/dist-packages (from kaggle) (1.24.3)\n",
            "Requirement already satisfied: six>=1.10 in /usr/local/lib/python3.6/dist-packages (from kaggle) (1.15.0)\n",
            "Requirement already satisfied: certifi in /usr/local/lib/python3.6/dist-packages (from kaggle) (2020.6.20)\n",
            "Requirement already satisfied: requests in /usr/local/lib/python3.6/dist-packages (from kaggle) (2.23.0)\n",
            "Requirement already satisfied: text-unidecode>=1.3 in /usr/local/lib/python3.6/dist-packages (from python-slugify->kaggle) (1.3)\n",
            "Requirement already satisfied: chardet<4,>=3.0.2 in /usr/local/lib/python3.6/dist-packages (from requests->kaggle) (3.0.4)\n",
            "Requirement already satisfied: idna<3,>=2.5 in /usr/local/lib/python3.6/dist-packages (from requests->kaggle) (2.10)\n"
          ],
          "name": "stdout"
        }
      ]
    },
    {
      "cell_type": "code",
      "metadata": {
        "id": "_iP7_H-5ubtG",
        "colab": {
          "base_uri": "https://localhost:8080/"
        },
        "outputId": "a861d837-a304-4eeb-f51d-42bb6d0950b8"
      },
      "source": [
        "from google.colab import drive\n",
        "drive.mount('/content/drive')"
      ],
      "execution_count": null,
      "outputs": [
        {
          "output_type": "stream",
          "text": [
            "Mounted at /content/drive\n"
          ],
          "name": "stdout"
        }
      ]
    },
    {
      "cell_type": "code",
      "metadata": {
        "id": "fWkAcnefSPKI"
      },
      "source": [
        "# Define kaggle json path\n",
        "# Sesuaikan dengan path anda\n",
        "import os\n",
        "os.environ['KAGGLE_CONFIG_DIR'] = \"/content/drive/My Drive/RESEARCH CENTER/DATASETS\""
      ],
      "execution_count": null,
      "outputs": []
    },
    {
      "cell_type": "code",
      "metadata": {
        "id": "IPUJ-XM5S4Th",
        "colab": {
          "base_uri": "https://localhost:8080/"
        },
        "outputId": "c0a54870-98d8-4262-ddd2-8890202823fa"
      },
      "source": [
        "# Ubah lokasi direktori kerja\n",
        "# Sesuaikan dengan path anda\n",
        "%cd /content/drive/My Drive/RESEARCH CENTER/DATASETS"
      ],
      "execution_count": null,
      "outputs": [
        {
          "output_type": "stream",
          "text": [
            "/content/drive/My Drive/RESEARCH CENTER/DATASETS\n"
          ],
          "name": "stdout"
        }
      ]
    },
    {
      "cell_type": "markdown",
      "metadata": {
        "id": "g8tGIV-bTmOE"
      },
      "source": [
        "Cek apakah api sudah terbaca oleh sistem"
      ]
    },
    {
      "cell_type": "code",
      "metadata": {
        "id": "69Bbmd-TCGhh",
        "colab": {
          "base_uri": "https://localhost:8080/"
        },
        "outputId": "dc5c1cd1-27ec-41fa-f302-8721151dfcd1"
      },
      "source": [
        "# Cek apakah api sudah terbaca oleh sistem\n",
        "!ls  "
      ],
      "execution_count": null,
      "outputs": [
        {
          "output_type": "stream",
          "text": [
            "kaggle.json  README_rpc-cv-images.txt  rockpaperscissors\n"
          ],
          "name": "stdout"
        }
      ]
    },
    {
      "cell_type": "markdown",
      "metadata": {
        "id": "7wGGZC8vTX0A"
      },
      "source": [
        "* Paste API Command dari kaggle dataset yang telah anda copy sebelumnya dan tambahkan tanda seru didepannya.\n",
        "* Pastikan anda menggunakan akun google kampus untuk mendapatkan storage penyimpanan unlimited.\n",
        "* Lebih disarankan untuk menggunakan google colab karena proses download data lebih cepat dan stabil daripada download manual dan menggunakan jupyter notebook."
      ]
    },
    {
      "cell_type": "code",
      "metadata": {
        "id": "emSTR53KTGW9",
        "colab": {
          "base_uri": "https://localhost:8080/"
        },
        "outputId": "d7c517ff-1280-459e-f4ad-7b4dfb1161c7"
      },
      "source": [
        "!kaggle datasets download -d drgfreeman/rockpaperscissors"
      ],
      "execution_count": null,
      "outputs": [
        {
          "output_type": "stream",
          "text": [
            "Downloading rockpaperscissors.zip to /content/drive/My Drive/RESEARCH CENTER/DATASETS\n",
            " 96% 294M/306M [00:03<00:00, 99.7MB/s]\n",
            "100% 306M/306M [00:03<00:00, 81.7MB/s]\n"
          ],
          "name": "stdout"
        }
      ]
    },
    {
      "cell_type": "code",
      "metadata": {
        "id": "JcpagHVWbdDY",
        "colab": {
          "base_uri": "https://localhost:8080/"
        },
        "outputId": "ee6ace42-766e-48d5-b462-58c55d909d76"
      },
      "source": [
        "# Cek isi direktori kerja dan memastikan dataset telah berhasil didownload.\n",
        "!ls"
      ],
      "execution_count": null,
      "outputs": [
        {
          "output_type": "stream",
          "text": [
            "kaggle.json\n"
          ],
          "name": "stdout"
        }
      ]
    },
    {
      "cell_type": "code",
      "metadata": {
        "id": "-Rvlrm3Kz19c"
      },
      "source": [
        "!unzip \\*.zip &> /dev/null && rm *.zip"
      ],
      "execution_count": null,
      "outputs": []
    },
    {
      "cell_type": "code",
      "metadata": {
        "id": "Vgw_k1zihmkK",
        "colab": {
          "base_uri": "https://localhost:8080/"
        },
        "outputId": "78d6f018-2b02-463c-bd0b-dbf512249af6"
      },
      "source": [
        "# Cek isi direktori kerja untuk memastikan dataset telah berhasil diekstrak.\n",
        "!ls"
      ],
      "execution_count": null,
      "outputs": [
        {
          "output_type": "stream",
          "text": [
            "kaggle.json  paper  README_rpc-cv-images.txt  rock  rps-cv-images  scissors\n"
          ],
          "name": "stdout"
        }
      ]
    },
    {
      "cell_type": "markdown",
      "metadata": {
        "id": "AHa7xcuP5vsU"
      },
      "source": [
        "## **Prepare Your Data**"
      ]
    },
    {
      "cell_type": "markdown",
      "metadata": {
        "id": "dPVmxstVUvyL"
      },
      "source": [
        "### **Soal 1** \n",
        "poin 5\n",
        "\n",
        "---\n",
        "Terlihat disana bahwa ada file dan folder baru yaitu : `paper, rock, scissors, README_rpc-cv-images.txt`. Untuk tujuan mempermudah aksesabilitas dataset maka akan lebih baik semua folder dataset yang merepresentasikan kelasnya tersebut disimpan dalam satu folder bernama `dataset`. Tugas anda adalah membuat folder baru dan memindahkan semua folder tersebut folder `dataset`.\n",
        "\n",
        "Selanjutnya, anda akan ditugaskan untuk melakukan splitting dataset menjadi 3 bagian yaitu `train, test, val` oleh sebab itu anda perlu tempat khusus untuk menyimpan ketiga folder tersebut agar penyimpanan anda lebih rapi. Buatlah sebuah folder baru bernama `rockpaperscissors` dan masukkan folder `dataset` kedalamnya. Nanti kita juga akan menyimpan folder `train, test, val` kedalam folder `rockpaperscissors`.\n",
        "\n",
        "*Ingat google colab juga menerima command berbasis linux.*"
      ]
    },
    {
      "cell_type": "code",
      "metadata": {
        "id": "_mCTSUzZQuny"
      },
      "source": [
        "!mkdir dataset"
      ],
      "execution_count": null,
      "outputs": []
    },
    {
      "cell_type": "code",
      "metadata": {
        "id": "d0m6kXUQR1US"
      },
      "source": [
        "# TULIS CODE ANDA DISINI\n",
        "!mv -t dataset paper rock scissors\n"
      ],
      "execution_count": null,
      "outputs": []
    },
    {
      "cell_type": "code",
      "metadata": {
        "id": "6Re0vwqYUPGD"
      },
      "source": [
        "# TULIS CODE ANDA DISINI\n",
        "!mkdir rockpaperscissors\n",
        "!mv -t rockpaperscissors dataset\n",
        "!rm -rf rps-cv-images\n",
        "!rm *.txt"
      ],
      "execution_count": null,
      "outputs": []
    },
    {
      "cell_type": "code",
      "metadata": {
        "id": "E5OYgbESbFON",
        "colab": {
          "base_uri": "https://localhost:8080/"
        },
        "outputId": "a32d7bfc-d75d-4e08-fb86-3fa9e5b95953"
      },
      "source": [
        "!pip install split-folders"
      ],
      "execution_count": null,
      "outputs": [
        {
          "output_type": "stream",
          "text": [
            "Collecting split-folders\n",
            "  Downloading https://files.pythonhosted.org/packages/b8/5f/3c2b2f7ea5e047c8cdc3bb00ae582c5438fcdbbedcc23b3cc1c2c7aae642/split_folders-0.4.3-py3-none-any.whl\n",
            "Installing collected packages: split-folders\n",
            "Successfully installed split-folders-0.4.3\n"
          ],
          "name": "stdout"
        }
      ]
    },
    {
      "cell_type": "code",
      "metadata": {
        "id": "ODpOFUmOA4M8",
        "colab": {
          "base_uri": "https://localhost:8080/"
        },
        "outputId": "3e5fac74-b352-4892-f0d9-2b088faa0fea"
      },
      "source": [
        "!ls rockpaperscissors"
      ],
      "execution_count": null,
      "outputs": [
        {
          "output_type": "stream",
          "text": [
            "dataset\n"
          ],
          "name": "stdout"
        }
      ]
    },
    {
      "cell_type": "markdown",
      "metadata": {
        "id": "6Y-OMhb1crH6"
      },
      "source": [
        "### **Soal 2**  *Opsional*\n",
        "\n",
        "poin 15\n",
        "\n",
        "---\n",
        "Sebelum dataset siap untuk dilakukan proses training anda perlu melakukan splitting dataset menjadi 3 bagian yaitu `train, test, val`. Data `train dan val` akan digunakan ketika anda melakukan training model. Dan data `test` akan anda gunakan ketika anda melakukan prediksi unseen data menggunakan model yang telah anda latih.\n",
        "\n",
        "* nilai full hanya untuk praktikan yang mampu menerapkan 2 baris code untuk splitting dataset"
      ]
    },
    {
      "cell_type": "code",
      "metadata": {
        "id": "wP9j3ePIhw3x"
      },
      "source": [
        "base_dir=\"/content/drive/My Drive/RESEARCH CENTER/DATASETS/rockpaperscissors\"\n",
        "data_dir=\"/content/drive/My Drive/RESEARCH CENTER/DATASETS/rockpaperscissors/dataset\""
      ],
      "execution_count": null,
      "outputs": []
    },
    {
      "cell_type": "code",
      "metadata": {
        "id": "1fZ8emtphwnI",
        "colab": {
          "base_uri": "https://localhost:8080/"
        },
        "outputId": "d20039b8-5f1b-4b59-d1d5-af31a63c0a8a"
      },
      "source": [
        "# TULIS CODE ANDA DISINI\n",
        "import splitfolders\n",
        "splitfolders.ratio(data_dir, output=base_dir, seed=1337, ratio=(.7,.15,.15),group_prefix=None)"
      ],
      "execution_count": null,
      "outputs": [
        {
          "output_type": "stream",
          "text": [
            "\n",
            "Copying files: 0 files [00:00, ? files/s]\u001b[A\n",
            "Copying files: 1 files [00:00,  5.19 files/s]\u001b[A\n",
            "Copying files: 14 files [00:00,  7.29 files/s]\u001b[A\n",
            "Copying files: 18 files [00:00,  9.26 files/s]\u001b[A\n",
            "Copying files: 32 files [00:00, 12.85 files/s]\u001b[A\n",
            "Copying files: 39 files [00:00, 15.61 files/s]\u001b[A\n",
            "Copying files: 51 files [00:00, 20.85 files/s]\u001b[A\n",
            "Copying files: 64 files [00:01, 27.83 files/s]\u001b[A\n",
            "Copying files: 73 files [00:01, 31.12 files/s]\u001b[A\n",
            "Copying files: 86 files [00:01, 38.13 files/s]\u001b[A\n",
            "Copying files: 98 files [00:01, 47.83 files/s]\u001b[A\n",
            "Copying files: 107 files [00:01, 53.60 files/s]\u001b[A\n",
            "Copying files: 121 files [00:01, 58.92 files/s]\u001b[A\n",
            "Copying files: 134 files [00:01, 70.48 files/s]\u001b[A\n",
            "Copying files: 144 files [00:02, 68.87 files/s]\u001b[A\n",
            "Copying files: 153 files [00:02, 67.16 files/s]\u001b[A\n",
            "Copying files: 165 files [00:02, 77.26 files/s]\u001b[A\n",
            "Copying files: 175 files [00:02, 75.67 files/s]\u001b[A\n",
            "Copying files: 186 files [00:02, 73.14 files/s]\u001b[A\n",
            "Copying files: 200 files [00:02, 84.40 files/s]\u001b[A\n",
            "Copying files: 210 files [00:02, 78.85 files/s]\u001b[A\n",
            "Copying files: 219 files [00:02, 72.41 files/s]\u001b[A\n",
            "Copying files: 233 files [00:03, 84.12 files/s]\u001b[A\n",
            "Copying files: 243 files [00:03, 76.53 files/s]\u001b[A\n",
            "Copying files: 252 files [00:03, 70.90 files/s]\u001b[A\n",
            "Copying files: 263 files [00:03, 79.17 files/s]\u001b[A\n",
            "Copying files: 272 files [00:03, 77.60 files/s]\u001b[A\n",
            "Copying files: 284 files [00:03, 75.92 files/s]\u001b[A\n",
            "Copying files: 295 files [00:03, 83.26 files/s]\u001b[A\n",
            "Copying files: 304 files [00:04, 78.93 files/s]\u001b[A\n",
            "Copying files: 316 files [00:04, 87.88 files/s]\u001b[A\n",
            "Copying files: 326 files [00:04, 80.78 files/s]\u001b[A\n",
            "Copying files: 335 files [00:04, 73.55 files/s]\u001b[A\n",
            "Copying files: 347 files [00:04, 83.16 files/s]\u001b[A\n",
            "Copying files: 357 files [00:04, 75.14 files/s]\u001b[A\n",
            "Copying files: 366 files [00:04, 72.71 files/s]\u001b[A\n",
            "Copying files: 379 files [00:04, 72.92 files/s]\u001b[A\n",
            "Copying files: 393 files [00:05, 84.43 files/s]\u001b[A\n",
            "Copying files: 403 files [00:05, 73.59 files/s]\u001b[A\n",
            "Copying files: 412 files [00:05, 70.64 files/s]\u001b[A\n",
            "Copying files: 423 files [00:05, 78.27 files/s]\u001b[A\n",
            "Copying files: 432 files [00:05, 76.38 files/s]\u001b[A\n",
            "Copying files: 441 files [00:05, 70.23 files/s]\u001b[A\n",
            "Copying files: 455 files [00:05, 81.74 files/s]\u001b[A\n",
            "Copying files: 465 files [00:06, 74.33 files/s]\u001b[A\n",
            "Copying files: 474 files [00:06, 69.79 files/s]\u001b[A\n",
            "Copying files: 488 files [00:06, 70.72 files/s]\u001b[A\n",
            "Copying files: 501 files [00:06, 81.64 files/s]\u001b[A\n",
            "Copying files: 511 files [00:06, 77.15 files/s]\u001b[A\n",
            "Copying files: 520 files [00:06, 72.41 files/s]\u001b[A\n",
            "Copying files: 529 files [00:06, 76.52 files/s]\u001b[A\n",
            "Copying files: 538 files [00:06, 77.77 files/s]\u001b[A\n",
            "Copying files: 552 files [00:07, 88.93 files/s]\u001b[A\n",
            "Copying files: 562 files [00:07, 82.91 files/s]\u001b[A\n",
            "Copying files: 572 files [00:07, 79.01 files/s]\u001b[A\n",
            "Copying files: 581 files [00:07, 81.87 files/s]\u001b[A\n",
            "Copying files: 590 files [00:07, 64.03 files/s]\u001b[A\n",
            "Copying files: 603 files [00:07, 75.09 files/s]\u001b[A\n",
            "Copying files: 612 files [00:07, 66.73 files/s]\u001b[A\n",
            "Copying files: 625 files [00:08, 62.18 files/s]\u001b[A\n",
            "Copying files: 638 files [00:08, 73.11 files/s]\u001b[A\n",
            "Copying files: 647 files [00:08, 74.32 files/s]\u001b[A\n",
            "Copying files: 660 files [00:08, 75.17 files/s]\u001b[A\n",
            "Copying files: 673 files [00:08, 85.63 files/s]\u001b[A\n",
            "Copying files: 683 files [00:08, 81.36 files/s]\u001b[A\n",
            "Copying files: 695 files [00:09, 79.28 files/s]\u001b[A\n",
            "Copying files: 707 files [00:09, 87.85 files/s]\u001b[A\n",
            "Copying files: 717 files [00:09, 49.96 files/s]\u001b[A\n",
            "Copying files: 731 files [00:09, 52.62 files/s]\u001b[A\n",
            "Copying files: 744 files [00:09, 63.56 files/s]\u001b[A\n",
            "Copying files: 753 files [00:09, 65.62 files/s]\u001b[A\n",
            "Copying files: 762 files [00:10, 69.30 files/s]\u001b[A\n",
            "Copying files: 771 files [00:10, 54.59 files/s]\u001b[A\n",
            "Copying files: 782 files [00:10, 53.40 files/s]\u001b[A\n",
            "Copying files: 794 files [00:10, 63.90 files/s]\u001b[A\n",
            "Copying files: 802 files [00:10, 65.18 files/s]\u001b[A\n",
            "Copying files: 815 files [00:10, 76.58 files/s]\u001b[A\n",
            "Copying files: 825 files [00:11, 58.25 files/s]\u001b[A\n",
            "Copying files: 833 files [00:11, 50.89 files/s]\u001b[A\n",
            "Copying files: 845 files [00:11, 61.37 files/s]\u001b[A\n",
            "Copying files: 854 files [00:11, 64.99 files/s]\u001b[A\n",
            "Copying files: 864 files [00:11, 71.36 files/s]\u001b[A\n",
            "Copying files: 873 files [00:11, 47.91 files/s]\u001b[A\n",
            "Copying files: 883 files [00:12, 51.71 files/s]\u001b[A\n",
            "Copying files: 897 files [00:12, 63.06 files/s]\u001b[A\n",
            "Copying files: 906 files [00:12, 64.75 files/s]\u001b[A\n",
            "Copying files: 914 files [00:12, 63.85 files/s]\u001b[A\n",
            "Copying files: 922 files [00:12, 56.11 files/s]\u001b[A\n",
            "Copying files: 932 files [00:12, 58.31 files/s]\u001b[A\n",
            "Copying files: 945 files [00:12, 69.38 files/s]\u001b[A\n",
            "Copying files: 954 files [00:13, 66.88 files/s]\u001b[A\n",
            "Copying files: 964 files [00:13, 67.13 files/s]\u001b[A\n",
            "Copying files: 976 files [00:13, 75.16 files/s]\u001b[A\n",
            "Copying files: 985 files [00:13, 52.09 files/s]\u001b[A\n",
            "Copying files: 996 files [00:13, 57.39 files/s]\u001b[A\n",
            "Copying files: 1009 files [00:13, 68.64 files/s]\u001b[A\n",
            "Copying files: 1018 files [00:14, 58.69 files/s]\u001b[A\n",
            "Copying files: 1028 files [00:14, 58.53 files/s]\u001b[A\n",
            "Copying files: 1041 files [00:14, 69.98 files/s]\u001b[A\n",
            "Copying files: 1050 files [00:14, 68.51 files/s]\u001b[A\n",
            "Copying files: 1059 files [00:14, 66.28 files/s]\u001b[A\n",
            "Copying files: 1071 files [00:14, 76.13 files/s]\u001b[A\n",
            "Copying files: 1080 files [00:15, 59.50 files/s]\u001b[A\n",
            "Copying files: 1089 files [00:15, 55.32 files/s]\u001b[A\n",
            "Copying files: 1099 files [00:15, 57.35 files/s]\u001b[A\n",
            "Copying files: 1106 files [00:15, 49.50 files/s]\u001b[A\n",
            "Copying files: 1120 files [00:15, 51.97 files/s]\u001b[A\n",
            "Copying files: 1132 files [00:15, 61.89 files/s]\u001b[A\n",
            "Copying files: 1140 files [00:16, 62.93 files/s]\u001b[A\n",
            "Copying files: 1151 files [00:16, 63.30 files/s]\u001b[A\n",
            "Copying files: 1165 files [00:16, 75.09 files/s]\u001b[A\n",
            "Copying files: 1174 files [00:16, 71.42 files/s]\u001b[A\n",
            "Copying files: 1183 files [00:16, 53.63 files/s]\u001b[A\n",
            "Copying files: 1196 files [00:16, 64.52 files/s]\u001b[A\n",
            "Copying files: 1205 files [00:16, 65.29 files/s]\u001b[A\n",
            "Copying files: 1213 files [00:17, 60.11 files/s]\u001b[A\n",
            "Copying files: 1226 files [00:17, 62.04 files/s]\u001b[A\n",
            "Copying files: 1237 files [00:17, 70.45 files/s]\u001b[A\n",
            "Copying files: 1245 files [00:17, 57.20 files/s]\u001b[A\n",
            "Copying files: 1258 files [00:17, 68.49 files/s]\u001b[A\n",
            "Copying files: 1267 files [00:17, 69.86 files/s]\u001b[A\n",
            "Copying files: 1278 files [00:17, 69.61 files/s]\u001b[A\n",
            "Copying files: 1291 files [00:18, 80.57 files/s]\u001b[A\n",
            "Copying files: 1301 files [00:18, 77.72 files/s]\u001b[A\n",
            "Copying files: 1312 files [00:18, 75.20 files/s]\u001b[A\n",
            "Copying files: 1325 files [00:18, 85.27 files/s]\u001b[A\n",
            "Copying files: 1335 files [00:18, 81.31 files/s]\u001b[A\n",
            "Copying files: 1347 files [00:18, 79.48 files/s]\u001b[A\n",
            "Copying files: 1360 files [00:18, 89.63 files/s]\u001b[A\n",
            "Copying files: 1370 files [00:19, 82.87 files/s]\u001b[A\n",
            "Copying files: 1381 files [00:19, 78.60 files/s]\u001b[A\n",
            "Copying files: 1395 files [00:19, 89.84 files/s]\u001b[A\n",
            "Copying files: 1405 files [00:19, 81.00 files/s]\u001b[A\n",
            "Copying files: 1415 files [00:19, 77.11 files/s]\u001b[A\n",
            "Copying files: 1429 files [00:19, 88.90 files/s]\u001b[A\n",
            "Copying files: 1439 files [00:20, 48.70 files/s]\u001b[A\n",
            "Copying files: 1448 files [00:20, 46.80 files/s]\u001b[A\n",
            "Copying files: 1455 files [00:20, 45.01 files/s]\u001b[A\n",
            "Copying files: 1466 files [00:20, 46.16 files/s]\u001b[A\n",
            "Copying files: 1479 files [00:20, 56.96 files/s]\u001b[A\n",
            "Copying files: 1487 files [00:20, 59.72 files/s]\u001b[A\n",
            "Copying files: 1499 files [00:21, 62.84 files/s]\u001b[A\n",
            "Copying files: 1513 files [00:21, 75.02 files/s]\u001b[A\n",
            "Copying files: 1523 files [00:21, 73.83 files/s]\u001b[A\n",
            "Copying files: 1534 files [00:21, 72.87 files/s]\u001b[A\n",
            "Copying files: 1549 files [00:21, 85.54 files/s]\u001b[A\n",
            "Copying files: 1560 files [00:21, 80.02 files/s]\u001b[A\n",
            "Copying files: 1570 files [00:21, 74.38 files/s]\u001b[A\n",
            "Copying files: 1584 files [00:22, 85.84 files/s]\u001b[A\n",
            "Copying files: 1594 files [00:22, 80.93 files/s]\u001b[A\n",
            "Copying files: 1604 files [00:22, 75.85 files/s]\u001b[A\n",
            "Copying files: 1614 files [00:22, 70.31 files/s]\u001b[A\n",
            "Copying files: 1622 files [00:22, 54.58 files/s]\u001b[A\n",
            "Copying files: 1634 files [00:22, 55.87 files/s]\u001b[A\n",
            "Copying files: 1647 files [00:23, 66.68 files/s]\u001b[A\n",
            "Copying files: 1656 files [00:23, 67.50 files/s]\u001b[A\n",
            "Copying files: 1666 files [00:23, 66.24 files/s]\u001b[A\n",
            "Copying files: 1679 files [00:23, 76.81 files/s]\u001b[A\n",
            "Copying files: 1688 files [00:23, 72.72 files/s]\u001b[A\n",
            "Copying files: 1698 files [00:23, 70.30 files/s]\u001b[A\n",
            "Copying files: 1711 files [00:23, 80.55 files/s]\u001b[A\n",
            "Copying files: 1720 files [00:23, 74.31 files/s]\u001b[A\n",
            "Copying files: 1729 files [00:24, 69.15 files/s]\u001b[A\n",
            "Copying files: 1739 files [00:24, 74.99 files/s]\u001b[A\n",
            "Copying files: 1748 files [00:24, 75.39 files/s]\u001b[A\n",
            "Copying files: 1759 files [00:24, 42.42 files/s]\u001b[A\n",
            "Copying files: 1770 files [00:24, 51.44 files/s]\u001b[A\n",
            "Copying files: 1778 files [00:25, 46.43 files/s]\u001b[A\n",
            "Copying files: 1787 files [00:25, 50.86 files/s]\u001b[A\n",
            "Copying files: 1800 files [00:25, 62.12 files/s]\u001b[A\n",
            "Copying files: 1809 files [00:25, 62.00 files/s]\u001b[A\n",
            "Copying files: 1818 files [00:25, 60.24 files/s]\u001b[A\n",
            "Copying files: 1830 files [00:25, 70.20 files/s]\u001b[A\n",
            "Copying files: 1839 files [00:25, 69.68 files/s]\u001b[A\n",
            "Copying files: 1849 files [00:26, 66.43 files/s]\u001b[A\n",
            "Copying files: 1862 files [00:26, 76.90 files/s]\u001b[A\n",
            "Copying files: 1871 files [00:26, 73.28 files/s]\u001b[A\n",
            "Copying files: 1880 files [00:26, 67.61 files/s]\u001b[A\n",
            "Copying files: 1894 files [00:26, 79.37 files/s]\u001b[A\n",
            "Copying files: 1904 files [00:26, 74.37 files/s]\u001b[A\n",
            "Copying files: 1913 files [00:26, 68.50 files/s]\u001b[A\n",
            "Copying files: 1925 files [00:27, 78.20 files/s]\u001b[A\n",
            "Copying files: 1934 files [00:27, 74.26 files/s]\u001b[A\n",
            "Copying files: 1943 files [00:27, 67.43 files/s]\u001b[A\n",
            "Copying files: 1955 files [00:27, 67.22 files/s]\u001b[A\n",
            "Copying files: 1967 files [00:27, 77.02 files/s]\u001b[A\n",
            "Copying files: 1976 files [00:27, 73.13 files/s]\u001b[A\n",
            "Copying files: 1988 files [00:27, 73.75 files/s]\u001b[A\n",
            "Copying files: 2002 files [00:28, 85.18 files/s]\u001b[A\n",
            "Copying files: 2012 files [00:28, 78.28 files/s]\u001b[A\n",
            "Copying files: 2022 files [00:28, 75.47 files/s]\u001b[A\n",
            "Copying files: 2034 files [00:28, 84.09 files/s]\u001b[A\n",
            "Copying files: 2044 files [00:28, 79.47 files/s]\u001b[A\n",
            "Copying files: 2056 files [00:28, 79.31 files/s]\u001b[A\n",
            "Copying files: 2069 files [00:28, 89.47 files/s]\u001b[A\n",
            "Copying files: 2079 files [00:28, 82.00 files/s]\u001b[A\n",
            "Copying files: 2090 files [00:29, 78.73 files/s]\u001b[A\n",
            "Copying files: 2103 files [00:29, 88.24 files/s]\u001b[A\n",
            "Copying files: 2113 files [00:29, 67.20 files/s]\u001b[A\n",
            "Copying files: 2125 files [00:29, 70.87 files/s]\u001b[A\n",
            "Copying files: 2137 files [00:29, 80.53 files/s]\u001b[A\n",
            "Copying files: 2147 files [00:29, 79.80 files/s]\u001b[A\n",
            "Copying files: 2158 files [00:29, 75.27 files/s]\u001b[A\n",
            "Copying files: 2170 files [00:30, 84.69 files/s]\u001b[A\n",
            "Copying files: 2188 files [00:30, 72.23 files/s]\n"
          ],
          "name": "stderr"
        }
      ]
    },
    {
      "cell_type": "code",
      "metadata": {
        "id": "2loDSPHhiKRy",
        "colab": {
          "base_uri": "https://localhost:8080/"
        },
        "outputId": "49e3ca70-e1ba-4303-b6e0-3009c23b49ac"
      },
      "source": [
        "ls rockpaperscissors"
      ],
      "execution_count": null,
      "outputs": [
        {
          "output_type": "stream",
          "text": [
            "\u001b[0m\u001b[01;34mdataset\u001b[0m/  \u001b[01;34mtest\u001b[0m/  \u001b[01;34mtrain\u001b[0m/  \u001b[01;34mval\u001b[0m/\n"
          ],
          "name": "stdout"
        }
      ]
    },
    {
      "cell_type": "markdown",
      "metadata": {
        "id": "bGJNvpjE06bH"
      },
      "source": [
        "## **Data Preprocessing**\n",
        "\n",
        "Kita anggap dataset yang kita miliki merupakan dataset yang telah bersih dan siap digunakan untuk proses training model. Namun agar data yang kita miliki dapat diproses oleh model maka kita perlu melakukan sedikit pengolahan data. Kita perlu melakukan load dataset yang tersimpan dalam folder-folder kelas menggunakan generator dan melakukan sedikit proses augmentasi sederhana. \n",
        "\n",
        "\n",
        "**NOTE :** Penjelasan augmentasi secara detail akan dibahas pada modul selanjutnya. Disini kita akan mengunakan augmentasi sederhana saja seperti resize, flip dan rotation."
      ]
    },
    {
      "cell_type": "markdown",
      "metadata": {
        "id": "LE3_N5ZA3CkM"
      },
      "source": [
        "### **Soal 3**\n",
        "poin 20\n",
        "\n",
        "---\n",
        "\n",
        "Lakukan proses agumentasi sederhana dan setting dataset menggunakan generator dengan ketentuan **WAJIB** menyertakan proses berikut :\n",
        "\n",
        "* Resize\n",
        "* Rescaling\n",
        "* Color Mode\n",
        "* Shuffle\n",
        "* Class Mode\n",
        "\n",
        "Terapkan semua proses diatas pada data `train, test dan validation`.\n"
      ]
    },
    {
      "cell_type": "code",
      "metadata": {
        "id": "p4BYW_tFdORV"
      },
      "source": [
        "# Definisikan path untuk data train test dan validation\n",
        "# sesuaikan dengan path anda\n",
        "train_path = os.path.join(base_dir,'train')\n",
        "test_path  = os.path.join(base_dir,'test')\n",
        "val_path   = os.path.join(base_dir,'val')"
      ],
      "execution_count": null,
      "outputs": []
    },
    {
      "cell_type": "code",
      "metadata": {
        "id": "TQhH4UZOdkF6",
        "colab": {
          "base_uri": "https://localhost:8080/"
        },
        "outputId": "f90d6571-eabc-4a78-898e-a67acad7d6f0"
      },
      "source": [
        "# TULIS KODE ANDA DISINI\n",
        "from keras.preprocessing.image import ImageDataGenerator\n",
        "from sklearn.utils import shuffle\n",
        "Batch_size=32\n",
        "augmen_gen = ImageDataGenerator(rescale=1. / 255,\n",
        "                            rotation_range=40,\n",
        "                            width_shift_range=0.2,\n",
        "                            height_shift_range=0.2,\n",
        "                            zoom_range=0.2,\n",
        "                            horizontal_flip=True,\n",
        "                            fill_mode='nearest')\n",
        "\n",
        "train_gen = augmen_gen.flow_from_directory(\n",
        "    train_path,\n",
        "    class_mode = 'categorical',\n",
        "    shuffle=True,\n",
        "    target_size = (224,224),\n",
        "    batch_size=Batch_size,\n",
        "    color_mode ='rgb'\n",
        ")\n",
        "\n",
        "val_gen = augmen_gen.flow_from_directory(\n",
        "    val_path,\n",
        "    class_mode = 'categorical',\n",
        "    shuffle=True,\n",
        "    target_size = (224,224),\n",
        "    batch_size=Batch_size,\n",
        "    color_mode ='rgb'\n",
        ")\n",
        "\n",
        "test_gen = augmen_gen.flow_from_directory(\n",
        "    test_path,\n",
        "    class_mode = 'categorical',\n",
        "    shuffle=False,\n",
        "    target_size = (224,224),\n",
        "    batch_size=Batch_size,\n",
        "    color_mode ='rgb',\n",
        ")"
      ],
      "execution_count": null,
      "outputs": [
        {
          "output_type": "stream",
          "text": [
            "Found 1531 images belonging to 3 classes.\n",
            "Found 326 images belonging to 3 classes.\n",
            "Found 331 images belonging to 3 classes.\n"
          ],
          "name": "stdout"
        }
      ]
    },
    {
      "cell_type": "markdown",
      "metadata": {
        "id": "kqIE1t7R0zrA"
      },
      "source": [
        "## **Definisikan Model CNN**\n",
        "\n",
        "Sangat disarankan menggunakan GPU sebagai akselerator untuk mempercepat proses training. Oleh sebab itu akan sangat lebih baik bila menggunakan google colab dimana anda dapat meminjam GPU dari google secara gratis."
      ]
    },
    {
      "cell_type": "markdown",
      "metadata": {
        "id": "DmMY0uROUFqP"
      },
      "source": [
        "### **Soal 4**\n",
        "poin 60\n",
        "\n",
        "---\n",
        "\n",
        "Definisikan model CNN anda sebaik mungkin, model dan evaluasi yang anda bangun **WAJIB** memenuhi kriteria berikut:\n",
        "\n",
        "* Menerapkan proses Convolution \n",
        "* Menerapkan proses Pooling\n",
        "* Menerapkan Dropout\n",
        "* Menerpakan BatchNormalization\n",
        "* Evaluasi model menggunakan grafik loss dan accuracy\n",
        "* Evaluasi menggunakan classification report\n",
        "* Evaluasi menggunakan confusion matrix\n",
        "\n",
        "Bila anda telah melaksanakan semua item-item wajib diatas maka anda bisa mendapatkan penilaian yang sesuai dengan kriteria penilaian sbb: ***Bila tidak menerapkan salah satu dari item wajib maka penilaian di soal ini dianggap gugur***\n",
        "\n",
        "* Akurasi < 50% Nilai Max 20\n",
        "* Akurasi < 80% Nilai Max 30\n",
        "* Akurasi >= 80% Nilai Max 40\n",
        "\n",
        "Opsional untuk mendapatkan nilai tambah :\n",
        "* Menggunakan Callbacks  **Poin tambahan 5 poin**\n",
        "* Menggunakan Learning Rate  **Poin tambahan 5 poin**\n",
        "* Lakukan prediksi dengan data test, pastikan model anda dapat memprediksi unseen data dengan kelas yang benar ***dengan ketentuan dapat menampilkan gambar dan label prediksi dan probability score dari gambar yang diprediksikan***. **Poin tambahan 15 poin**\n",
        "* **Nilai tambahan 15 poin** apabila lama proses training model tidak lebih dari 15 menit dengan akurasi >90%"
      ]
    },
    {
      "cell_type": "code",
      "metadata": {
        "id": "PWp_YTCzIp5R"
      },
      "source": [
        "# IMPORT SEMUA PAKET YANG ANDA PERLUKAN UNTUK MENDEFINISIKAN MODEL DISINI\n",
        "from tensorflow.keras.models import Sequential\n",
        "from tensorflow.keras.layers import InputLayer, Dense, Conv2D, MaxPool2D, Flatten, BatchNormalization, Dropout\n",
        "from tensorflow.keras.callbacks import ModelCheckpoint, ReduceLROnPlateau, EarlyStopping\n",
        "from tensorflow.keras.optimizers import Adam\n",
        "import time"
      ],
      "execution_count": null,
      "outputs": []
    },
    {
      "cell_type": "code",
      "metadata": {
        "id": "Mjl4kwq1XKJE"
      },
      "source": [
        "# DEFINISIKAN MODEL ANDA DISINI\n",
        "model = Sequential()\n",
        "\n",
        "model.add(InputLayer(input_shape=[224,224,3]))\n",
        "model.add(Conv2D(filters=32, kernel_size=3, strides=1, padding='same', activation='relu'))\n",
        "model.add(MaxPool2D(pool_size=2, padding='same'))\n",
        "model.add(Conv2D(filters=64, kernel_size=3, strides=1, padding='same', activation='relu'))\n",
        "model.add(MaxPool2D(pool_size=2, padding='same'))\n",
        "model.add(Conv2D(filters=128, kernel_size=3, strides=1, padding='same', activation='relu'))\n",
        "model.add(MaxPool2D(pool_size=2, padding='same'))\n",
        "model.add(Dropout(0.25))\n",
        "model.add(BatchNormalization())\n",
        "model.add(Flatten())\n",
        "\n",
        "# Fully Connected Layer\n",
        "model.add(Dense(512, activation='relu'))\n",
        "model.add(Dropout(0.3))\n",
        "model.add(Dense(3, activation='softmax'))"
      ],
      "execution_count": null,
      "outputs": []
    },
    {
      "cell_type": "code",
      "metadata": {
        "id": "dTQC-d65tO0e",
        "colab": {
          "base_uri": "https://localhost:8080/"
        },
        "outputId": "bf317e7a-21ed-483f-af7a-f485b7800547"
      },
      "source": [
        "# TULIS CODE UNTUK MENAMPILKAN SUMMARY DARI ARSITEKTUR MODEL ANDA DISINI\n",
        "print(model.summary())"
      ],
      "execution_count": null,
      "outputs": [
        {
          "output_type": "stream",
          "text": [
            "Model: \"sequential\"\n",
            "_________________________________________________________________\n",
            "Layer (type)                 Output Shape              Param #   \n",
            "=================================================================\n",
            "conv2d (Conv2D)              (None, 224, 224, 32)      896       \n",
            "_________________________________________________________________\n",
            "max_pooling2d (MaxPooling2D) (None, 112, 112, 32)      0         \n",
            "_________________________________________________________________\n",
            "conv2d_1 (Conv2D)            (None, 112, 112, 64)      18496     \n",
            "_________________________________________________________________\n",
            "max_pooling2d_1 (MaxPooling2 (None, 56, 56, 64)        0         \n",
            "_________________________________________________________________\n",
            "conv2d_2 (Conv2D)            (None, 56, 56, 128)       73856     \n",
            "_________________________________________________________________\n",
            "max_pooling2d_2 (MaxPooling2 (None, 28, 28, 128)       0         \n",
            "_________________________________________________________________\n",
            "dropout (Dropout)            (None, 28, 28, 128)       0         \n",
            "_________________________________________________________________\n",
            "batch_normalization (BatchNo (None, 28, 28, 128)       512       \n",
            "_________________________________________________________________\n",
            "flatten (Flatten)            (None, 100352)            0         \n",
            "_________________________________________________________________\n",
            "dense (Dense)                (None, 512)               51380736  \n",
            "_________________________________________________________________\n",
            "dropout_1 (Dropout)          (None, 512)               0         \n",
            "_________________________________________________________________\n",
            "dense_1 (Dense)              (None, 3)                 1539      \n",
            "=================================================================\n",
            "Total params: 51,476,035\n",
            "Trainable params: 51,475,779\n",
            "Non-trainable params: 256\n",
            "_________________________________________________________________\n",
            "None\n"
          ],
          "name": "stdout"
        }
      ]
    },
    {
      "cell_type": "code",
      "metadata": {
        "id": "SGZHwTajjw13"
      },
      "source": [
        "# TULIS CODE CALLBACKS ANDA DISINI\n",
        "best_model_path = 'best_model.h5'\n",
        "checkpoint_callback = ModelCheckpoint(best_model_path,\n",
        "                                     monitor='val_accuracy',\n",
        "                                     save_best_only=True,\n",
        "                                     verbose=1)\n",
        "reduce_callback = ReduceLROnPlateau(monitor='val_accuracy', patience=3, factor=0.5, min_lr=0.000003, verbose=1)\n",
        "callbacks_list = [checkpoint_callback, reduce_callback]\n",
        "\n",
        "# early_stop = EarlyStopping(monitor='val_loss', mode='min', verbose=1, patience=5)"
      ],
      "execution_count": null,
      "outputs": []
    },
    {
      "cell_type": "code",
      "metadata": {
        "id": "8tPPBmcDtYwi"
      },
      "source": [
        "# TULIS CODE UNTUK DEFINISI LEARNING RATE DISINI \n",
        "learning_rate=0.00001"
      ],
      "execution_count": null,
      "outputs": []
    },
    {
      "cell_type": "code",
      "metadata": {
        "id": "2NHvlRG7tpgb"
      },
      "source": [
        "# TULIS CODE UNTUK TRAINING DISINI\n",
        "model.compile(loss='categorical_crossentropy',\n",
        "             optimizer=Adam(lr=learning_rate),\n",
        "             metrics='accuracy')\n"
      ],
      "execution_count": null,
      "outputs": []
    },
    {
      "cell_type": "code",
      "metadata": {
        "id": "OIHye4dUNq5J",
        "colab": {
          "base_uri": "https://localhost:8080/"
        },
        "outputId": "74824ac1-3c20-462f-eebc-350fdef526eb"
      },
      "source": [
        "# TULIS CODE UNTUK MENCETAK LAMA TRAINING TIME DISINI\n",
        "start = time.time()\n",
        "H = model.fit_generator(train_gen, epochs=25,validation_data=val_gen, validation_steps = 4, verbose=1, callbacks=[callbacks_list])\n",
        "\n",
        "End = time.time()\n",
        "print (\"training time: \", End-start,\"s\")"
      ],
      "execution_count": null,
      "outputs": [
        {
          "output_type": "stream",
          "text": [
            "WARNING:tensorflow:From <ipython-input-31-ba57e98d8a20>:3: Model.fit_generator (from tensorflow.python.keras.engine.training) is deprecated and will be removed in a future version.\n",
            "Instructions for updating:\n",
            "Please use Model.fit, which supports generators.\n",
            "Epoch 1/25\n",
            " 2/48 [>.............................] - ETA: 1s - loss: 1.3799 - accuracy: 0.3281WARNING:tensorflow:Callbacks method `on_train_batch_end` is slow compared to the batch time (batch time: 0.0226s vs `on_train_batch_end` time: 0.0471s). Check your callbacks.\n",
            "48/48 [==============================] - ETA: 0s - loss: 1.1837 - accuracy: 0.4370\n",
            "Epoch 00001: val_accuracy improved from -inf to 0.36719, saving model to best_model.h5\n",
            "48/48 [==============================] - 26s 536ms/step - loss: 1.1837 - accuracy: 0.4370 - val_loss: 1.0727 - val_accuracy: 0.3672\n",
            "Epoch 2/25\n",
            "48/48 [==============================] - ETA: 0s - loss: 0.9924 - accuracy: 0.5284\n",
            "Epoch 00002: val_accuracy improved from 0.36719 to 0.52344, saving model to best_model.h5\n",
            "48/48 [==============================] - 27s 569ms/step - loss: 0.9924 - accuracy: 0.5284 - val_loss: 1.0622 - val_accuracy: 0.5234\n",
            "Epoch 3/25\n",
            "48/48 [==============================] - ETA: 0s - loss: 0.8954 - accuracy: 0.5976\n",
            "Epoch 00003: val_accuracy improved from 0.52344 to 0.65625, saving model to best_model.h5\n",
            "48/48 [==============================] - 27s 555ms/step - loss: 0.8954 - accuracy: 0.5976 - val_loss: 1.0316 - val_accuracy: 0.6562\n",
            "Epoch 4/25\n",
            "48/48 [==============================] - ETA: 0s - loss: 0.7706 - accuracy: 0.6610\n",
            "Epoch 00004: val_accuracy did not improve from 0.65625\n",
            "48/48 [==============================] - 23s 484ms/step - loss: 0.7706 - accuracy: 0.6610 - val_loss: 1.0122 - val_accuracy: 0.6562\n",
            "Epoch 5/25\n",
            "48/48 [==============================] - ETA: 0s - loss: 0.7147 - accuracy: 0.7048\n",
            "Epoch 00005: val_accuracy improved from 0.65625 to 0.77344, saving model to best_model.h5\n",
            "48/48 [==============================] - 24s 508ms/step - loss: 0.7147 - accuracy: 0.7048 - val_loss: 0.9553 - val_accuracy: 0.7734\n",
            "Epoch 6/25\n",
            "48/48 [==============================] - ETA: 0s - loss: 0.6422 - accuracy: 0.7551\n",
            "Epoch 00006: val_accuracy did not improve from 0.77344\n",
            "48/48 [==============================] - 23s 481ms/step - loss: 0.6422 - accuracy: 0.7551 - val_loss: 0.9037 - val_accuracy: 0.7344\n",
            "Epoch 7/25\n",
            "48/48 [==============================] - ETA: 0s - loss: 0.5666 - accuracy: 0.7792\n",
            "Epoch 00007: val_accuracy did not improve from 0.77344\n",
            "48/48 [==============================] - 22s 450ms/step - loss: 0.5666 - accuracy: 0.7792 - val_loss: 0.8549 - val_accuracy: 0.7656\n",
            "Epoch 8/25\n",
            "48/48 [==============================] - ETA: 0s - loss: 0.5184 - accuracy: 0.7995\n",
            "Epoch 00008: val_accuracy did not improve from 0.77344\n",
            "\n",
            "Epoch 00008: ReduceLROnPlateau reducing learning rate to 4.999999873689376e-06.\n",
            "48/48 [==============================] - 22s 450ms/step - loss: 0.5184 - accuracy: 0.7995 - val_loss: 0.8075 - val_accuracy: 0.7422\n",
            "Epoch 9/25\n",
            "48/48 [==============================] - ETA: 0s - loss: 0.4536 - accuracy: 0.8465\n",
            "Epoch 00009: val_accuracy improved from 0.77344 to 0.85938, saving model to best_model.h5\n",
            "48/48 [==============================] - 24s 496ms/step - loss: 0.4536 - accuracy: 0.8465 - val_loss: 0.6660 - val_accuracy: 0.8594\n",
            "Epoch 10/25\n",
            "48/48 [==============================] - ETA: 0s - loss: 0.4505 - accuracy: 0.8302\n",
            "Epoch 00010: val_accuracy did not improve from 0.85938\n",
            "48/48 [==============================] - 23s 474ms/step - loss: 0.4505 - accuracy: 0.8302 - val_loss: 0.6285 - val_accuracy: 0.8281\n",
            "Epoch 11/25\n",
            "48/48 [==============================] - ETA: 0s - loss: 0.4324 - accuracy: 0.8485\n",
            "Epoch 00011: val_accuracy did not improve from 0.85938\n",
            "48/48 [==============================] - 22s 450ms/step - loss: 0.4324 - accuracy: 0.8485 - val_loss: 0.5531 - val_accuracy: 0.8594\n",
            "Epoch 12/25\n",
            "48/48 [==============================] - ETA: 0s - loss: 0.3999 - accuracy: 0.8511\n",
            "Epoch 00012: val_accuracy did not improve from 0.85938\n",
            "\n",
            "Epoch 00012: ReduceLROnPlateau reducing learning rate to 3e-06.\n",
            "48/48 [==============================] - 22s 455ms/step - loss: 0.3999 - accuracy: 0.8511 - val_loss: 0.5015 - val_accuracy: 0.8359\n",
            "Epoch 13/25\n",
            "48/48 [==============================] - ETA: 0s - loss: 0.4099 - accuracy: 0.8596\n",
            "Epoch 00013: val_accuracy improved from 0.85938 to 0.92969, saving model to best_model.h5\n",
            "48/48 [==============================] - 25s 523ms/step - loss: 0.4099 - accuracy: 0.8596 - val_loss: 0.3986 - val_accuracy: 0.9297\n",
            "Epoch 14/25\n",
            "48/48 [==============================] - ETA: 0s - loss: 0.3689 - accuracy: 0.8746\n",
            "Epoch 00014: val_accuracy did not improve from 0.92969\n",
            "48/48 [==============================] - 23s 472ms/step - loss: 0.3689 - accuracy: 0.8746 - val_loss: 0.3290 - val_accuracy: 0.8984\n",
            "Epoch 15/25\n",
            "48/48 [==============================] - ETA: 0s - loss: 0.3730 - accuracy: 0.8772\n",
            "Epoch 00015: val_accuracy did not improve from 0.92969\n",
            "48/48 [==============================] - 22s 456ms/step - loss: 0.3730 - accuracy: 0.8772 - val_loss: 0.3575 - val_accuracy: 0.8672\n",
            "Epoch 16/25\n",
            "48/48 [==============================] - ETA: 0s - loss: 0.3508 - accuracy: 0.8752\n",
            "Epoch 00016: val_accuracy did not improve from 0.92969\n",
            "\n",
            "Epoch 00016: ReduceLROnPlateau reducing learning rate to 3e-06.\n",
            "48/48 [==============================] - 21s 447ms/step - loss: 0.3508 - accuracy: 0.8752 - val_loss: 0.3102 - val_accuracy: 0.9062\n",
            "Epoch 17/25\n",
            "48/48 [==============================] - ETA: 0s - loss: 0.3762 - accuracy: 0.8543\n",
            "Epoch 00017: val_accuracy did not improve from 0.92969\n",
            "48/48 [==============================] - 21s 445ms/step - loss: 0.3762 - accuracy: 0.8543 - val_loss: 0.2895 - val_accuracy: 0.8984\n",
            "Epoch 18/25\n",
            "48/48 [==============================] - ETA: 0s - loss: 0.3641 - accuracy: 0.8720\n",
            "Epoch 00018: val_accuracy did not improve from 0.92969\n",
            "48/48 [==============================] - 21s 446ms/step - loss: 0.3641 - accuracy: 0.8720 - val_loss: 0.3402 - val_accuracy: 0.8906\n",
            "Epoch 19/25\n",
            "48/48 [==============================] - ETA: 0s - loss: 0.3392 - accuracy: 0.8877\n",
            "Epoch 00019: val_accuracy did not improve from 0.92969\n",
            "\n",
            "Epoch 00019: ReduceLROnPlateau reducing learning rate to 3e-06.\n",
            "48/48 [==============================] - 22s 450ms/step - loss: 0.3392 - accuracy: 0.8877 - val_loss: 0.2955 - val_accuracy: 0.9297\n",
            "Epoch 20/25\n",
            "48/48 [==============================] - ETA: 0s - loss: 0.3407 - accuracy: 0.8798\n",
            "Epoch 00020: val_accuracy did not improve from 0.92969\n",
            "48/48 [==============================] - 21s 446ms/step - loss: 0.3407 - accuracy: 0.8798 - val_loss: 0.2769 - val_accuracy: 0.8984\n",
            "Epoch 21/25\n",
            "48/48 [==============================] - ETA: 0s - loss: 0.3079 - accuracy: 0.9020\n",
            "Epoch 00021: val_accuracy did not improve from 0.92969\n",
            "48/48 [==============================] - 22s 449ms/step - loss: 0.3079 - accuracy: 0.9020 - val_loss: 0.2196 - val_accuracy: 0.9297\n",
            "Epoch 22/25\n",
            "48/48 [==============================] - ETA: 0s - loss: 0.3359 - accuracy: 0.8837\n",
            "Epoch 00022: val_accuracy improved from 0.92969 to 0.94531, saving model to best_model.h5\n",
            "48/48 [==============================] - 24s 509ms/step - loss: 0.3359 - accuracy: 0.8837 - val_loss: 0.2104 - val_accuracy: 0.9453\n",
            "Epoch 23/25\n",
            "48/48 [==============================] - ETA: 0s - loss: 0.3334 - accuracy: 0.8831\n",
            "Epoch 00023: val_accuracy did not improve from 0.94531\n",
            "48/48 [==============================] - 23s 480ms/step - loss: 0.3334 - accuracy: 0.8831 - val_loss: 0.2414 - val_accuracy: 0.9297\n",
            "Epoch 24/25\n",
            "48/48 [==============================] - ETA: 0s - loss: 0.3092 - accuracy: 0.9040\n",
            "Epoch 00024: val_accuracy did not improve from 0.94531\n",
            "48/48 [==============================] - 22s 448ms/step - loss: 0.3092 - accuracy: 0.9040 - val_loss: 0.3044 - val_accuracy: 0.8828\n",
            "Epoch 25/25\n",
            "48/48 [==============================] - ETA: 0s - loss: 0.3202 - accuracy: 0.8857\n",
            "Epoch 00025: val_accuracy did not improve from 0.94531\n",
            "\n",
            "Epoch 00025: ReduceLROnPlateau reducing learning rate to 3e-06.\n",
            "48/48 [==============================] - 21s 447ms/step - loss: 0.3202 - accuracy: 0.8857 - val_loss: 0.2068 - val_accuracy: 0.9453\n",
            "training time:  592.7559263706207 s\n"
          ],
          "name": "stdout"
        }
      ]
    },
    {
      "cell_type": "markdown",
      "metadata": {
        "id": "qk59kdzr5AMT"
      },
      "source": [
        "# **Evaluate**"
      ]
    },
    {
      "cell_type": "code",
      "metadata": {
        "id": "4K8XoKgx5do6"
      },
      "source": [
        "# IMPORT SEMUA PAKET YANG ANDA PERLUKAN UNTUK MENGEVALUASI MODEL DISINI\n",
        "%matplotlib inline\n",
        "import matplotlib.pyplot as plt\n",
        "import numpy as np\n",
        "from keras.models import load_model\n",
        "from sklearn.metrics import classification_report, confusion_matrix\n"
      ],
      "execution_count": null,
      "outputs": []
    },
    {
      "cell_type": "code",
      "metadata": {
        "id": "FB5foZU1gqrO",
        "colab": {
          "base_uri": "https://localhost:8080/",
          "height": 246
        },
        "outputId": "30d3e53c-8c8a-44fb-968c-0ec8b8f98629"
      },
      "source": [
        "# TULIS CODE UNTUK EVALUASI MODEL DISINI\n",
        "\n",
        "model.load_weights(best_model_path)\n",
        "\n",
        "ypred = model.predict(test_gen)\n",
        "predictions = np.argmax(ypred, axis = 1)\n",
        "# labels = (pred > 0.5).astype(np.int)\n",
        "print(classification_report(test_gen.classes,predictions))"
      ],
      "execution_count": null,
      "outputs": [
        {
          "output_type": "error",
          "ename": "NameError",
          "evalue": "ignored",
          "traceback": [
            "\u001b[0;31m---------------------------------------------------------------------------\u001b[0m",
            "\u001b[0;31mNameError\u001b[0m                                 Traceback (most recent call last)",
            "\u001b[0;32m<ipython-input-3-86add6df17ce>\u001b[0m in \u001b[0;36m<module>\u001b[0;34m()\u001b[0m\n\u001b[1;32m      1\u001b[0m \u001b[0;31m# TULIS CODE UNTUK EVALUASI MODEL DISINI\u001b[0m\u001b[0;34m\u001b[0m\u001b[0;34m\u001b[0m\u001b[0;34m\u001b[0m\u001b[0m\n\u001b[1;32m      2\u001b[0m \u001b[0;34m\u001b[0m\u001b[0m\n\u001b[0;32m----> 3\u001b[0;31m \u001b[0mmodel\u001b[0m\u001b[0;34m.\u001b[0m\u001b[0mload_weights\u001b[0m\u001b[0;34m(\u001b[0m\u001b[0mbest_model_path\u001b[0m\u001b[0;34m)\u001b[0m\u001b[0;34m\u001b[0m\u001b[0;34m\u001b[0m\u001b[0m\n\u001b[0m\u001b[1;32m      4\u001b[0m \u001b[0;34m\u001b[0m\u001b[0m\n\u001b[1;32m      5\u001b[0m \u001b[0mypred\u001b[0m \u001b[0;34m=\u001b[0m \u001b[0mmodel\u001b[0m\u001b[0;34m.\u001b[0m\u001b[0mpredict\u001b[0m\u001b[0;34m(\u001b[0m\u001b[0mtest_gen\u001b[0m\u001b[0;34m)\u001b[0m\u001b[0;34m\u001b[0m\u001b[0;34m\u001b[0m\u001b[0m\n",
            "\u001b[0;31mNameError\u001b[0m: name 'model' is not defined"
          ]
        }
      ]
    },
    {
      "cell_type": "code",
      "metadata": {
        "id": "m-_7VhzH40DQ",
        "colab": {
          "base_uri": "https://localhost:8080/",
          "height": 384
        },
        "outputId": "19ba3a7a-4739-4c8b-9f42-7ffc803d6808"
      },
      "source": [
        "# TULIS CODE UNTUK PLOT EVALUASI MODEL DISINI\n",
        "import itertools\n",
        "def plot_confusion_matrix(cm, classes,\n",
        "                          normalize=False,\n",
        "                          title='Confusion matrix',\n",
        "                          cmap=plt.cm.Blues):\n",
        "    if normalize:\n",
        "        cm = cm.astype('float') / cm.sum(axis=1)[:, np.newaxis]\n",
        "        print(\"Normalized confusion matrix\")\n",
        "    else:\n",
        "        print('Confusion matrix, without normalization')\n",
        "\n",
        "    print(cm)\n",
        "\n",
        "    plt.imshow(cm, interpolation='nearest', cmap=cmap)\n",
        "    plt.title(title)\n",
        "    plt.colorbar()\n",
        "    tick_marks = np.arange(len(classes))\n",
        "    plt.xticks(tick_marks, classes, rotation=45)\n",
        "    plt.yticks(tick_marks, classes)\n",
        "\n",
        "    fmt = '.2f' if normalize else 'd'\n",
        "    thresh = cm.max() / 2.\n",
        "    for i, j in itertools.product(range(cm.shape[0]), range(cm.shape[1])):\n",
        "        plt.text(j, i, format(cm[i, j], fmt),\n",
        "                 horizontalalignment=\"center\",\n",
        "                 color=\"white\" if cm[i, j] > thresh else \"black\")\n",
        "\n",
        "    plt.tight_layout()\n",
        "    plt.ylabel('True label')\n",
        "    plt.xlabel('Predicted label')\n",
        "\n",
        "cnf_matrix=confusion_matrix(test_gen.classes,predictions)\n",
        "plot_confusion_matrix(cnf_matrix, classes=test_gen.class_indices)"
      ],
      "execution_count": null,
      "outputs": [
        {
          "output_type": "stream",
          "text": [
            "Confusion matrix, without normalization\n",
            "[[ 93   9   6]\n",
            " [  5 104   1]\n",
            " [ 11   7  95]]\n"
          ],
          "name": "stdout"
        },
        {
          "output_type": "display_data",
          "data": {
            "image/png": "[encoded data removed]",
            "text/plain": [
              "<Figure size 432x288 with 2 Axes>"
            ]
          },
          "metadata": {
            "tags": [],
            "needs_background": "light"
          }
        }
      ]
    },
    {
      "cell_type": "code",
      "metadata": {
        "id": "4O4zHpI-wrrS",
        "colab": {
          "base_uri": "https://localhost:8080/",
          "height": 581
        },
        "outputId": "877049f9-945f-4dc2-c303-c1ce15c488b6"
      },
      "source": [
        "# TULIS CODE UNTUK PREDIKSI DATA TEST DISINI\n",
        "plt.style.use(\"ggplot\")\n",
        "\n",
        "plt.plot(np.arange(0, 25), H.history[\"loss\"], label=\"train_loss\")\n",
        "plt.plot(np.arange(0, 25), H.history[\"val_loss\"], label=\"val_loss\")\n",
        "plt.title(\"Loss Plot\")\n",
        "plt.xlabel(\"Epoch #\")\n",
        "plt.ylabel(\"Loss\")\n",
        "plt.show()\n",
        "\n",
        "plt.plot(np.arange(0, 25), H.history[\"accuracy\"], label=\"train_acc\")\n",
        "plt.plot(np.arange(0, 25), H.history[\"val_accuracy\"], label=\"val_acc\")\n",
        "plt.title(\"Accuracy Plot\")\n",
        "plt.xlabel(\"Epoch #\")\n",
        "plt.ylabel(\"Accuracy\")\n",
        "plt.legend()\n",
        "plt.show()"
      ],
      "execution_count": null,
      "outputs": [
        {
          "output_type": "display_data",
          "data": {
            "image/png": "[encoded data removed]",
            "text/plain": [
              "<Figure size 432x288 with 1 Axes>"
            ]
          },
          "metadata": {
            "tags": []
          }
        },
        {
          "output_type": "display_data",
          "data": {
            "image/png": "[encoded data removed]",
            "text/plain": [
              "<Figure size 432x288 with 1 Axes>"
            ]
          },
          "metadata": {
            "tags": []
          }
        }
      ]
    },
    {
      "cell_type": "code",
      "metadata": {
        "id": "9FZBVsIH46Bb",
        "colab": {
          "base_uri": "https://localhost:8080/",
          "height": 371
        },
        "outputId": "aa44feba-d6d6-443b-88a4-6a58fe941776"
      },
      "source": [
        "# TULIS CODE UNTUK PREDIKSI DATA TEST DISINI\n",
        "import PIL\n",
        "\n",
        "def predictModel(image_path):\n",
        "    # Load and resize the image using PIL.\n",
        "    img = PIL.Image.open(image_path)\n",
        "    img_resized = img.resize((224, 224), PIL.Image.LANCZOS)\n",
        "\n",
        "    # Plot the image.\n",
        "    plt.imshow(img_resized)\n",
        "\n",
        "    # Convert the PIL image to a numpy-array with the proper shape.\n",
        "    img_array = np.expand_dims(np.array(img_resized), axis=0)\n",
        "\n",
        "    pred_coba = model.predict_classes(img_array)\n",
        "    ahoy = model.predict(img_array)\n",
        "    \n",
        "    labels = np.argmax(ahoy, axis=1)\n",
        "\n",
        "    plt.title(f\"Pred : {ahoy}\\nLabels : {labels}\")\n",
        "\n",
        "predictModel(\"/content/drive/My Drive/RESEARCH CENTER/DATASETS/rockpaperscissors/test/paper/Di7hVJMSS3DzbSTi.png\")"
      ],
      "execution_count": null,
      "outputs": [
        {
          "output_type": "stream",
          "text": [
            "WARNING:tensorflow:From <ipython-input-38-0e962988859a>:15: Sequential.predict_classes (from tensorflow.python.keras.engine.sequential) is deprecated and will be removed after 2021-01-01.\n",
            "Instructions for updating:\n",
            "Please use instead:* `np.argmax(model.predict(x), axis=-1)`,   if your model does multi-class classification   (e.g. if it uses a `softmax` last-layer activation).* `(model.predict(x) > 0.5).astype(\"int32\")`,   if your model does binary classification   (e.g. if it uses a `sigmoid` last-layer activation).\n"
          ],
          "name": "stdout"
        },
        {
          "output_type": "display_data",
          "data": {
            "image/png": "[encoded data removed]",
            "text/plain": [
              "<Figure size 432x288 with 1 Axes>"
            ]
          },
          "metadata": {
            "tags": [],
            "needs_background": "light"
          }
        }
      ]
    }
  ]
}