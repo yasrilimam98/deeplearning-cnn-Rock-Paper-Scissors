{
 "cells": [
  {
   "cell_type": "markdown",
   "metadata": {
    "colab_type": "text",
    "id": "xop3SsUgE6wB"
   },
   "source": [
    "<img src = \"https://imgur.com/HE0kDhA.jpg\"  align = \"center\">"
   ]
  },
  {
   "cell_type": "markdown",
   "metadata": {
    "colab_type": "text",
    "id": "wQBa4hXoxDUd"
   },
   "source": [
    "# **Handling Overfit Problem (Part 1)**"
   ]
  },
  {
   "cell_type": "markdown",
   "metadata": {
    "colab_type": "text",
    "id": "7-UCcY4k4tVt"
   },
   "source": [
    "Ketika mengklasifikasikan dataset dengan menggunakan metode machine learning maupun deep learning, seringkali model yang dihasilkan mengalami kondisi underfit dan overfit. Apa itu? Di modul kali ini, kita akan berkenalan dengan kedua kondisi tersebut.\n",
    "\n",
    "\n"
   ]
  },
  {
   "cell_type": "markdown",
   "metadata": {
    "colab_type": "text",
    "id": "KGb5uluBWpYA"
   },
   "source": [
    "<h3>Underfit VS Overfit</h3>"
   ]
  },
  {
   "cell_type": "markdown",
   "metadata": {
    "colab_type": "text",
    "id": "-kL7mEuQlqhQ"
   },
   "source": [
    "Tujuan dari machine learning adalah untuk membuat model yang dapat dengan tepat memprediksi (mengklasifikasikan) data test (atau data validation) ke dalam kelas yang tersedia. Akan tetapi, kadangkala model yang terbentuk masih belum mampu mengklasifikasikan data (baik itu data train, data validation, maupun data test) dengan akurat. Kondisi ini disebut dengan underfit. Setiap model yang dilatih, di epoch-epoch awal, biasanya masih akan mengalami kondisi underfit, tapi seiring meningkatnya nilai epoch, maka kondisi underfit lama-kelamaan akan hilang dan model akan berada pada kondisi best fit"
   ]
  },
  {
   "cell_type": "markdown",
   "metadata": {
    "colab_type": "text",
    "id": "JsYMe3MPms5C"
   },
   "source": [
    "![alt text](https://i.imgur.com/wbvAcgM.png)"
   ]
  },
  {
   "cell_type": "markdown",
   "metadata": {
    "colab_type": "text",
    "id": "ecUb8_ktnCgr"
   },
   "source": [
    "Saat model mampu dengan sangat baik memprediksi data train, tapi kurang baik dalam memprediksi data validation atau data test, maka kondisi ini disebut dengan overfit. Ciri kondisi ini adalah grafik train loss menunjukkan tren turun (mendekati 0), sedangkan validation loss menunjukkan tren naik. Jadi ada generalitation gap di antara keduanya (seperti yang terlihat pada gambar di atas. Garis warna hijau adalah train loss, dan garis warna merah adalah validation loss)."
   ]
  },
  {
   "cell_type": "markdown",
   "metadata": {
    "colab_type": "text",
    "id": "agArusuvozoL"
   },
   "source": [
    "Kemudian, bagaimana cara untuk menghindari overfitting pada suatu model? Ada banyak cara. Meskipun kita tidak bisa menjamin bahwa cara-cara tersebut 100% berhasil, tapi dari beberapa penelitian menunjukkan bahwa cara-cara tersebut cukup efektif dalam menekan kondisi overfit pada suatu model. Pada modul kali ini, kita akan berkenalan dengan 2 cara yang seringkali digunakan. Yaitu:\n",
    "\n",
    "1.   Menambahkan Layer Batch Normalization\n",
    "2.   Menambahkan Layer Dropout\n",
    "\n"
   ]
  },
  {
   "cell_type": "markdown",
   "metadata": {
    "colab_type": "text",
    "id": "WTqRfuHaphkN"
   },
   "source": [
    "<h3>Batch Normalization</h3>"
   ]
  },
  {
   "cell_type": "markdown",
   "metadata": {
    "colab_type": "text",
    "id": "cw7etg-Upm2x"
   },
   "source": [
    "Secara umum, tujuan dari penambahan layer ini pada suatu arsitektur CNN adalah untuk menormalisasi output dari layer sebelumnya, untuk nanti diteruskan ke layer berikutnya. Dari beberapa penelitian yang telah dilakukan, terbukti penambahan layer ini mampu menekan kondisi overfit pada suatu model. Akan tetapi, penambahan layer ini memiliki kelemahan dimana proses training akan menjadi semakin lama, karena output dari suatu layer harus dinormalisasi terlebih dahulu, sebelum diteruskan ke layer berikutnya. Pada umumnya, layer ini ditambahkan setelah Activation Layer."
   ]
  },
  {
   "cell_type": "markdown",
   "metadata": {
    "colab_type": "text",
    "id": "Yfd3Yf1fpndQ"
   },
   "source": [
    "<h3>Droupout</h3>"
   ]
  },
  {
   "cell_type": "markdown",
   "metadata": {
    "colab_type": "text",
    "id": "BjtWutVhpqdd"
   },
   "source": [
    "Secara sederhana, layer dropout berfungsi untuk menghilangkan edge (bobot) yang menghubungkan dua buah layer secara random. Seperti yang dapat dilihat pada gambar berikut:"
   ]
  },
  {
   "cell_type": "markdown",
   "metadata": {
    "colab_type": "text",
    "id": "f-OdT1mBtxKP"
   },
   "source": [
    "![alt text](https://i.imgur.com/Lc8ZTIv.png)"
   ]
  },
  {
   "cell_type": "markdown",
   "metadata": {
    "colab_type": "text",
    "id": "eIMrp-NKtzQn"
   },
   "source": [
    "Dapat dilihat pada gambar di atas, sebelah kiri adalah kondisi jaringan tanpa layer dropout. Sedangkan di sebelah kanan, adalah jaringan dengan layer Dropout. Pada jaringan di sebelah kiri, terdapat 12 buah bobot yang menghubungkan kedua layer. Sementara di sebelah kanan, dengan menambahkan layer dropout(50%), maka jumlah bobotnya berubah jadi 6 (50% dari 12). Dropout akan menghapus bobot yang menghubungkan kedua layer secara random dengan prosentase tertentu. Ini disebut konsep generalization dalam neural network. Tujuannya adalah agar model tidak terlalu presisi dalam mempelajari data train, sehingga melupakan hal-hal yang bersifat general. Penambahan layer dropout ini dari beberapa penelitian juga terbukti efektif dalam menekan kondisi overfit"
   ]
  },
  {
   "cell_type": "markdown",
   "metadata": {
    "colab_type": "text",
    "id": "QJ7ufBkXQpOg"
   },
   "source": [
    "\n",
    "\n",
    "---\n",
    "\n",
    "\n",
    "\n",
    "---\n",
    "\n"
   ]
  },
  {
   "cell_type": "markdown",
   "metadata": {
    "colab_type": "text",
    "id": "zFEiWjY1QduE"
   },
   "source": [
    "# Langkah Praktikum"
   ]
  },
  {
   "cell_type": "markdown",
   "metadata": {
    "colab_type": "text",
    "id": "mPSpwl0AQya0"
   },
   "source": [
    "Pada praktikum kali ini, kita akan mencoba memperbaiki model yang telah kita buat pada modul sebelumnya. Di modul sebelumnya, model CNN yang sudah kita bangun mampu memperoleh nilai akurasi 100% untuk data training. Akan tetapi untuk data validation, nilai akurasinya turun jadi 70%. Demikian pula nilai validation_loss yang semakin meningkat per epoch nya. Ini menandakan model yang terbentuk masih overfit. Kali ini, kita akan mencoba memperbaikinya dengan menambahkan layer dropout dan batch normalization"
   ]
  },
  {
   "cell_type": "markdown",
   "metadata": {
    "colab_type": "text",
    "id": "0P0QSO1ORoLZ"
   },
   "source": [
    "<h3>Load Dataset</h3>"
   ]
  },
  {
   "cell_type": "code",
   "execution_count": null,
   "metadata": {
    "colab": {
     "base_uri": "https://localhost:8080/",
     "height": 204
    },
    "colab_type": "code",
    "executionInfo": {
     "elapsed": 6378,
     "status": "ok",
     "timestamp": 1595894139705,
     "user": {
      "displayName": "Yufis Azhar",
      "photoUrl": "https://lh3.googleusercontent.com/a-/AOh14Gj3OobbsM5qDia0Zn6NK3lrkIBbxJIeOBBWJWfv=s64",
      "userId": "06581129787675983896"
     },
     "user_tz": -420
    },
    "id": "57695NA9Qjer",
    "outputId": "df3e9d5c-527d-4237-ea1c-424f7ea27eef"
   },
   "outputs": [
    {
     "name": "stdout",
     "output_type": "stream",
     "text": [
      "--2020-07-27 23:55:35--  https://storage.googleapis.com/mledu-datasets/cats_and_dogs_filtered.zip\n",
      "Resolving storage.googleapis.com (storage.googleapis.com)... 74.125.142.128, 74.125.195.128, 74.125.20.128, ...\n",
      "Connecting to storage.googleapis.com (storage.googleapis.com)|74.125.142.128|:443... connected.\n",
      "HTTP request sent, awaiting response... 200 OK\n",
      "Length: 68606236 (65M) [application/zip]\n",
      "Saving to: ‘/tmp/cats_and_dogs_filtered.zip’\n",
      "\n",
      "\r",
      "          /tmp/cats   0%[                    ]       0  --.-KB/s               \r",
      "         /tmp/cats_  12%[=>                  ]   8.01M  32.0MB/s               \r",
      "        /tmp/cats_a  92%[=================>  ]  60.54M   134MB/s               \r",
      "/tmp/cats_and_dogs_ 100%[===================>]  65.43M   139MB/s    in 0.5s    \n",
      "\n",
      "2020-07-27 23:55:36 (139 MB/s) - ‘/tmp/cats_and_dogs_filtered.zip’ saved [68606236/68606236]\n",
      "\n"
     ]
    }
   ],
   "source": [
    "# Download dataset\n",
    "!wget --no-check-certificate \\\n",
    "    https://storage.googleapis.com/mledu-datasets/cats_and_dogs_filtered.zip \\\n",
    "    -O /tmp/cats_and_dogs_filtered.zip"
   ]
  },
  {
   "cell_type": "code",
   "execution_count": null,
   "metadata": {
    "colab": {},
    "colab_type": "code",
    "id": "fx3FYrGpQuUI"
   },
   "outputs": [],
   "source": [
    "# Ekstrak dataset\n",
    "\n",
    "import os\n",
    "import zipfile\n",
    "\n",
    "local_zip = '/tmp/cats_and_dogs_filtered.zip'\n",
    "zip_ref = zipfile.ZipFile(local_zip, 'r')\n",
    "zip_ref.extractall('/tmp')\n",
    "zip_ref.close()"
   ]
  },
  {
   "cell_type": "code",
   "execution_count": null,
   "metadata": {
    "colab": {},
    "colab_type": "code",
    "id": "TKYYlLRRRtbT"
   },
   "outputs": [],
   "source": [
    "# Definisikan path untuk data train dan data validation\n",
    "\n",
    "base_dir = '/tmp/cats_and_dogs_filtered'\n",
    "\n",
    "train_dir = os.path.join(base_dir, 'train')\n",
    "validation_dir = os.path.join(base_dir, 'validation')"
   ]
  },
  {
   "cell_type": "code",
   "execution_count": null,
   "metadata": {
    "colab": {},
    "colab_type": "code",
    "id": "pnp35bdcRvcd"
   },
   "outputs": [],
   "source": [
    "import cv2\n",
    "import numpy as np\n",
    "\n",
    "# Gather data train\n",
    "train_data = []\n",
    "train_label = []\n",
    "for r, d, f in os.walk(train_dir):\n",
    "    for file in f:\n",
    "        if \".jpg\" in file:\n",
    "            imagePath = os.path.join(r, file)\n",
    "            image = cv2.imread(imagePath)\n",
    "            image = cv2.resize(image, (150,150))\n",
    "            train_data.append(image)\n",
    "            label = imagePath.split(os.path.sep)[-2]\n",
    "            train_label.append(label)\n",
    "\n",
    "train_data = np.array(train_data)\n",
    "train_label = np.array(train_label)"
   ]
  },
  {
   "cell_type": "code",
   "execution_count": null,
   "metadata": {
    "colab": {},
    "colab_type": "code",
    "id": "a-E_Zhk1Rw8Y"
   },
   "outputs": [],
   "source": [
    "# Gather data validation\n",
    "val_data = []\n",
    "val_label = []\n",
    "for r, d, f in os.walk(validation_dir):\n",
    "    for file in f:\n",
    "        if \".jpg\" in file:\n",
    "            imagePath = os.path.join(r, file)\n",
    "            image = cv2.imread(imagePath)\n",
    "            image = cv2.resize(image, (150,150))\n",
    "            val_data.append(image)\n",
    "            label = imagePath.split(os.path.sep)[-2]\n",
    "            val_label.append(label)\n",
    "\n",
    "val_data = np.array(val_data)\n",
    "val_label = np.array(val_label)"
   ]
  },
  {
   "cell_type": "markdown",
   "metadata": {
    "colab_type": "text",
    "id": "pbvUeo8URzuG"
   },
   "source": [
    "<h3>Data Preprocessing</h3>"
   ]
  },
  {
   "cell_type": "code",
   "execution_count": null,
   "metadata": {
    "colab": {
     "base_uri": "https://localhost:8080/",
     "height": 85
    },
    "colab_type": "code",
    "executionInfo": {
     "elapsed": 4713,
     "status": "ok",
     "timestamp": 1595894153018,
     "user": {
      "displayName": "Yufis Azhar",
      "photoUrl": "https://lh3.googleusercontent.com/a-/AOh14Gj3OobbsM5qDia0Zn6NK3lrkIBbxJIeOBBWJWfv=s64",
      "userId": "06581129787675983896"
     },
     "user_tz": -420
    },
    "id": "sZsfPuYoRyfV",
    "outputId": "8acf37c7-d1b5-4edf-f313-54cc7fbbb08c"
   },
   "outputs": [
    {
     "name": "stdout",
     "output_type": "stream",
     "text": [
      "Train Data =  (2000, 150, 150, 3)\n",
      "Train Label =  (2000,)\n",
      "Validation Data =  (1000, 150, 150, 3)\n",
      "Validation Label =  (1000,)\n"
     ]
    }
   ],
   "source": [
    "# Tampilkan shape dari data train dan data validation\n",
    "print(\"Train Data = \", train_data.shape)\n",
    "print(\"Train Label = \", train_label.shape)\n",
    "print(\"Validation Data = \", val_data.shape)\n",
    "print(\"Validation Label = \", val_label.shape)"
   ]
  },
  {
   "cell_type": "code",
   "execution_count": null,
   "metadata": {
    "colab": {
     "base_uri": "https://localhost:8080/",
     "height": 51
    },
    "colab_type": "code",
    "executionInfo": {
     "elapsed": 4659,
     "status": "ok",
     "timestamp": 1595894153580,
     "user": {
      "displayName": "Yufis Azhar",
      "photoUrl": "https://lh3.googleusercontent.com/a-/AOh14Gj3OobbsM5qDia0Zn6NK3lrkIBbxJIeOBBWJWfv=s64",
      "userId": "06581129787675983896"
     },
     "user_tz": -420
    },
    "id": "vpLjHq3DR4o2",
    "outputId": "68f159ae-7522-412d-e3ff-20527f750fa9"
   },
   "outputs": [
    {
     "name": "stdout",
     "output_type": "stream",
     "text": [
      "Data sebelum di-normalisasi  [39 49 59]\n",
      "Data setelah di-normalisasi  [0.15294118 0.19215687 0.23137255]\n"
     ]
    }
   ],
   "source": [
    "# Normalisasi dataset\n",
    "print(\"Data sebelum di-normalisasi \", train_data[0][0][0])\n",
    "\n",
    "x_train = train_data.astype('float32') / 255.0\n",
    "x_val = val_data.astype('float32') / 255.0\n",
    "print(\"Data setelah di-normalisasi \", x_train[0][0][0])"
   ]
  },
  {
   "cell_type": "code",
   "execution_count": null,
   "metadata": {
    "colab": {
     "base_uri": "https://localhost:8080/",
     "height": 51
    },
    "colab_type": "code",
    "executionInfo": {
     "elapsed": 4143,
     "status": "ok",
     "timestamp": 1595894153586,
     "user": {
      "displayName": "Yufis Azhar",
      "photoUrl": "https://lh3.googleusercontent.com/a-/AOh14Gj3OobbsM5qDia0Zn6NK3lrkIBbxJIeOBBWJWfv=s64",
      "userId": "06581129787675983896"
     },
     "user_tz": -420
    },
    "id": "p3aFpUESR6J-",
    "outputId": "586e60d4-a378-4444-b1d2-299f6c0fe80e"
   },
   "outputs": [
    {
     "name": "stdout",
     "output_type": "stream",
     "text": [
      "Label sebelum di-encoder  ['dogs' 'dogs' 'dogs' 'dogs' 'dogs' 'cats' 'cats' 'cats' 'cats' 'cats']\n",
      "Label setelah di-encoder  [1 1 1 1 1 0 0 0 0 0]\n"
     ]
    }
   ],
   "source": [
    "# Transformasi label encoder\n",
    "from sklearn.preprocessing import LabelEncoder\n",
    "\n",
    "print(\"Label sebelum di-encoder \", train_label[995:1005])\n",
    "\n",
    "lb = LabelEncoder()\n",
    "y_train = lb.fit_transform(train_label)\n",
    "y_val = lb.fit_transform(val_label)\n",
    "\n",
    "print(\"Label setelah di-encoder \", y_train[995:1005])"
   ]
  },
  {
   "cell_type": "markdown",
   "metadata": {
    "colab_type": "text",
    "id": "YjFrxiogR-P8"
   },
   "source": [
    "<h3>Definisikan Model Dengan Menambahkan Layer Batch Normalization</h3>"
   ]
  },
  {
   "cell_type": "code",
   "execution_count": null,
   "metadata": {
    "colab": {},
    "colab_type": "code",
    "id": "uK8uCtnHR8as"
   },
   "outputs": [],
   "source": [
    "from tensorflow.keras.models import Sequential\n",
    "from tensorflow.keras.layers import InputLayer, Dense, Conv2D, MaxPool2D, Flatten, BatchNormalization, Dropout"
   ]
  },
  {
   "cell_type": "markdown",
   "metadata": {
    "colab_type": "text",
    "id": "sTNc34VUu25I"
   },
   "source": [
    "Disini, kita akan menambahkan 3 buah layer BatchNormalization tiap di akhir layer convolution"
   ]
  },
  {
   "cell_type": "code",
   "execution_count": null,
   "metadata": {
    "colab": {},
    "colab_type": "code",
    "id": "-e9ejrlMSISu"
   },
   "outputs": [],
   "source": [
    "# Feature Extraction Layer\n",
    "model = Sequential()\n",
    "\n",
    "model.add(InputLayer(input_shape=[150,150,3]))\n",
    "model.add(Conv2D(filters=16, kernel_size=3, strides=1, padding='same', activation='relu'))\n",
    "model.add(BatchNormalization())\n",
    "model.add(MaxPool2D(pool_size=2, padding='same'))\n",
    "model.add(Conv2D(filters=32, kernel_size=3, strides=1, padding='same', activation='relu'))\n",
    "model.add(BatchNormalization())\n",
    "model.add(MaxPool2D(pool_size=2, padding='same'))\n",
    "model.add(Conv2D(filters=64, kernel_size=3, strides=1, padding='same', activation='relu'))\n",
    "model.add(BatchNormalization())\n",
    "model.add(MaxPool2D(pool_size=2, padding='same'))\n",
    "model.add(Flatten())"
   ]
  },
  {
   "cell_type": "code",
   "execution_count": null,
   "metadata": {
    "colab": {},
    "colab_type": "code",
    "id": "KgA5jxUmSWnI"
   },
   "outputs": [],
   "source": [
    "# Fully Connected Layer\n",
    "model.add(Dense(128, activation='relu'))\n",
    "model.add(Dense(1, activation='sigmoid'))"
   ]
  },
  {
   "cell_type": "code",
   "execution_count": null,
   "metadata": {
    "colab": {
     "base_uri": "https://localhost:8080/",
     "height": 578
    },
    "colab_type": "code",
    "executionInfo": {
     "elapsed": 948,
     "status": "ok",
     "timestamp": 1595908086886,
     "user": {
      "displayName": "Yufis Azhar",
      "photoUrl": "https://lh3.googleusercontent.com/a-/AOh14Gj3OobbsM5qDia0Zn6NK3lrkIBbxJIeOBBWJWfv=s64",
      "userId": "06581129787675983896"
     },
     "user_tz": -420
    },
    "id": "z5JtIuA8SYSv",
    "outputId": "35da5800-0418-40ac-e40d-f265332f5c5f"
   },
   "outputs": [
    {
     "name": "stdout",
     "output_type": "stream",
     "text": [
      "Model: \"sequential_2\"\n",
      "_________________________________________________________________\n",
      "Layer (type)                 Output Shape              Param #   \n",
      "=================================================================\n",
      "conv2d_6 (Conv2D)            (None, 150, 150, 16)      448       \n",
      "_________________________________________________________________\n",
      "batch_normalization_8 (Batch (None, 150, 150, 16)      64        \n",
      "_________________________________________________________________\n",
      "max_pooling2d_6 (MaxPooling2 (None, 75, 75, 16)        0         \n",
      "_________________________________________________________________\n",
      "conv2d_7 (Conv2D)            (None, 75, 75, 32)        4640      \n",
      "_________________________________________________________________\n",
      "batch_normalization_9 (Batch (None, 75, 75, 32)        128       \n",
      "_________________________________________________________________\n",
      "max_pooling2d_7 (MaxPooling2 (None, 38, 38, 32)        0         \n",
      "_________________________________________________________________\n",
      "conv2d_8 (Conv2D)            (None, 38, 38, 64)        18496     \n",
      "_________________________________________________________________\n",
      "batch_normalization_10 (Batc (None, 38, 38, 64)        256       \n",
      "_________________________________________________________________\n",
      "max_pooling2d_8 (MaxPooling2 (None, 19, 19, 64)        0         \n",
      "_________________________________________________________________\n",
      "flatten_2 (Flatten)          (None, 23104)             0         \n",
      "_________________________________________________________________\n",
      "dense_4 (Dense)              (None, 128)               2957440   \n",
      "_________________________________________________________________\n",
      "dense_5 (Dense)              (None, 1)                 129       \n",
      "=================================================================\n",
      "Total params: 2,981,601\n",
      "Trainable params: 2,981,377\n",
      "Non-trainable params: 224\n",
      "_________________________________________________________________\n",
      "None\n"
     ]
    }
   ],
   "source": [
    "# Print model summary\n",
    "print(model.summary())"
   ]
  },
  {
   "cell_type": "code",
   "execution_count": null,
   "metadata": {
    "colab": {},
    "colab_type": "code",
    "id": "BXPr-p_hSZod"
   },
   "outputs": [],
   "source": [
    "# Compile model\n",
    "from tensorflow.keras.optimizers import Adam\n",
    "\n",
    "model.compile(optimizer=Adam(lr=0.001), \n",
    "              loss='binary_crossentropy', \n",
    "              metrics=['acc'])"
   ]
  },
  {
   "cell_type": "markdown",
   "metadata": {
    "colab_type": "text",
    "id": "opnRqzbqSgu5"
   },
   "source": [
    "<h3>Training Model</h3>"
   ]
  },
  {
   "cell_type": "code",
   "execution_count": null,
   "metadata": {
    "colab": {
     "base_uri": "https://localhost:8080/",
     "height": 527
    },
    "colab_type": "code",
    "executionInfo": {
     "elapsed": 916720,
     "status": "ok",
     "timestamp": 1595909011212,
     "user": {
      "displayName": "Yufis Azhar",
      "photoUrl": "https://lh3.googleusercontent.com/a-/AOh14Gj3OobbsM5qDia0Zn6NK3lrkIBbxJIeOBBWJWfv=s64",
      "userId": "06581129787675983896"
     },
     "user_tz": -420
    },
    "id": "P7S0cT4HSdtP",
    "outputId": "ca998fef-25f6-40ae-fbd2-db547ae73bba"
   },
   "outputs": [
    {
     "name": "stdout",
     "output_type": "stream",
     "text": [
      "Epoch 1/15\n",
      "100/100 [==============================] - 60s 605ms/step - loss: 1.1516 - acc: 0.5370 - val_loss: 3.1486 - val_acc: 0.4880\n",
      "Epoch 2/15\n",
      "100/100 [==============================] - 61s 608ms/step - loss: 0.6236 - acc: 0.6550 - val_loss: 2.8041 - val_acc: 0.5090\n",
      "Epoch 3/15\n",
      "100/100 [==============================] - 60s 604ms/step - loss: 0.5434 - acc: 0.7290 - val_loss: 1.3534 - val_acc: 0.5900\n",
      "Epoch 4/15\n",
      "100/100 [==============================] - 60s 605ms/step - loss: 0.4665 - acc: 0.7755 - val_loss: 0.9803 - val_acc: 0.6510\n",
      "Epoch 5/15\n",
      "100/100 [==============================] - 60s 605ms/step - loss: 0.3553 - acc: 0.8410 - val_loss: 0.6857 - val_acc: 0.6840\n",
      "Epoch 6/15\n",
      "100/100 [==============================] - 60s 602ms/step - loss: 0.2476 - acc: 0.9005 - val_loss: 0.6606 - val_acc: 0.7060\n",
      "Epoch 7/15\n",
      "100/100 [==============================] - 61s 607ms/step - loss: 0.1675 - acc: 0.9305 - val_loss: 0.7671 - val_acc: 0.6830\n",
      "Epoch 8/15\n",
      "100/100 [==============================] - 60s 604ms/step - loss: 0.1135 - acc: 0.9510 - val_loss: 0.8641 - val_acc: 0.6680\n",
      "Epoch 9/15\n",
      "100/100 [==============================] - 60s 604ms/step - loss: 0.0938 - acc: 0.9615 - val_loss: 0.9415 - val_acc: 0.7120\n",
      "Epoch 10/15\n",
      "100/100 [==============================] - 60s 602ms/step - loss: 0.0371 - acc: 0.9855 - val_loss: 0.9362 - val_acc: 0.7290\n",
      "Epoch 11/15\n",
      "100/100 [==============================] - 60s 604ms/step - loss: 0.0401 - acc: 0.9780 - val_loss: 1.0557 - val_acc: 0.7090\n",
      "Epoch 12/15\n",
      "100/100 [==============================] - 61s 607ms/step - loss: 0.0483 - acc: 0.9795 - val_loss: 1.1625 - val_acc: 0.6980\n",
      "Epoch 13/15\n",
      "100/100 [==============================] - 61s 607ms/step - loss: 0.0171 - acc: 0.9900 - val_loss: 1.0844 - val_acc: 0.7270\n",
      "Epoch 14/15\n",
      "100/100 [==============================] - 60s 604ms/step - loss: 0.0102 - acc: 0.9935 - val_loss: 1.1390 - val_acc: 0.7170\n",
      "Epoch 15/15\n",
      "100/100 [==============================] - 60s 602ms/step - loss: 0.0122 - acc: 0.9925 - val_loss: 1.3623 - val_acc: 0.7020\n"
     ]
    }
   ],
   "source": [
    "H = model.fit(x_train, y_train, batch_size=20, epochs=15, validation_data=(x_val, y_val))"
   ]
  },
  {
   "cell_type": "markdown",
   "metadata": {
    "colab_type": "text",
    "id": "T906ID7_SpJ_"
   },
   "source": [
    "<h3>Evaluasi</h3>"
   ]
  },
  {
   "cell_type": "code",
   "execution_count": null,
   "metadata": {
    "colab": {
     "base_uri": "https://localhost:8080/",
     "height": 299
    },
    "colab_type": "code",
    "executionInfo": {
     "elapsed": 914903,
     "status": "ok",
     "timestamp": 1595909011218,
     "user": {
      "displayName": "Yufis Azhar",
      "photoUrl": "https://lh3.googleusercontent.com/a-/AOh14Gj3OobbsM5qDia0Zn6NK3lrkIBbxJIeOBBWJWfv=s64",
      "userId": "06581129787675983896"
     },
     "user_tz": -420
    },
    "id": "Av695sy7SjGy",
    "outputId": "888f7776-4120-42e0-9918-d5c48119089e"
   },
   "outputs": [
    {
     "data": {
      "image/png": "[encoded data removed]",
      "text/plain": [
       "<Figure size 432x288 with 1 Axes>"
      ]
     },
     "metadata": {
      "tags": []
     },
     "output_type": "display_data"
    }
   ],
   "source": [
    "%matplotlib inline\n",
    "\n",
    "import matplotlib.pyplot as plt\n",
    "\n",
    "plt.style.use(\"ggplot\")\n",
    "plt.figure()\n",
    "#plt.axis(0,15,0,8)\n",
    "plt.plot(np.arange(0, 15), H.history[\"loss\"], label=\"train_loss\")\n",
    "plt.plot(np.arange(0, 15), H.history[\"val_loss\"], label=\"val_loss\")\n",
    "plt.title(\"Loss Plot\")\n",
    "plt.xlabel(\"Epoch #\")\n",
    "plt.ylabel(\"Loss\")\n",
    "plt.legend()\n",
    "plt.show()"
   ]
  },
  {
   "cell_type": "markdown",
   "metadata": {
    "colab_type": "text",
    "id": "V7_0fhnGn7K2"
   },
   "source": [
    "Grafik di atas menunjukkan masih terlihat adanya overfit. Akan tetapi jika dibandingkan dengan grafik loss di modul sebelumnya (Modul 2), grafik loss kita menunjukkan generalization gap yang semakin kecil. Ini berarti BatchNormalization cukup baik dalam menekan keadaan overfit pada suatu model."
   ]
  },
  {
   "cell_type": "code",
   "execution_count": null,
   "metadata": {
    "colab": {
     "base_uri": "https://localhost:8080/",
     "height": 299
    },
    "colab_type": "code",
    "executionInfo": {
     "elapsed": 914482,
     "status": "ok",
     "timestamp": 1595909011624,
     "user": {
      "displayName": "Yufis Azhar",
      "photoUrl": "https://lh3.googleusercontent.com/a-/AOh14Gj3OobbsM5qDia0Zn6NK3lrkIBbxJIeOBBWJWfv=s64",
      "userId": "06581129787675983896"
     },
     "user_tz": -420
    },
    "id": "GW7V-bP7Ssu8",
    "outputId": "76afeeda-e8c5-420d-fdeb-d67c95af676d"
   },
   "outputs": [
    {
     "data": {
      "image/png": "[encoded data removed]",
      "text/plain": [
       "<Figure size 432x288 with 1 Axes>"
      ]
     },
     "metadata": {
      "tags": []
     },
     "output_type": "display_data"
    }
   ],
   "source": [
    "plt.style.use(\"ggplot\")\n",
    "plt.figure()\n",
    "plt.plot(np.arange(0, 15), H.history[\"acc\"], label=\"train_acc\")\n",
    "plt.plot(np.arange(0, 15), H.history[\"val_acc\"], label=\"val_acc\")\n",
    "plt.title(\"Accuracy Plot\")\n",
    "plt.xlabel(\"Epoch #\")\n",
    "plt.ylabel(\"Acc\")\n",
    "plt.legend()\n",
    "plt.show()"
   ]
  },
  {
   "cell_type": "code",
   "execution_count": null,
   "metadata": {
    "colab": {
     "base_uri": "https://localhost:8080/",
     "height": 170
    },
    "colab_type": "code",
    "executionInfo": {
     "elapsed": 919714,
     "status": "ok",
     "timestamp": 1595909018152,
     "user": {
      "displayName": "Yufis Azhar",
      "photoUrl": "https://lh3.googleusercontent.com/a-/AOh14Gj3OobbsM5qDia0Zn6NK3lrkIBbxJIeOBBWJWfv=s64",
      "userId": "06581129787675983896"
     },
     "user_tz": -420
    },
    "id": "9G59cZ-zSuaT",
    "outputId": "fd4f22ee-6c2f-439c-901b-6a0654265aa1"
   },
   "outputs": [
    {
     "name": "stdout",
     "output_type": "stream",
     "text": [
      "              precision    recall  f1-score   support\n",
      "\n",
      "           0       0.68      0.77      0.72       500\n",
      "           1       0.74      0.63      0.68       500\n",
      "\n",
      "    accuracy                           0.70      1000\n",
      "   macro avg       0.71      0.70      0.70      1000\n",
      "weighted avg       0.71      0.70      0.70      1000\n",
      "\n"
     ]
    }
   ],
   "source": [
    "from sklearn.metrics import classification_report\n",
    "\n",
    "pred = model.predict(x_val)\n",
    "labels = (pred > 0.5).astype(np.int)\n",
    "\n",
    "print(classification_report(y_val, labels))"
   ]
  },
  {
   "cell_type": "markdown",
   "metadata": {
    "colab_type": "text",
    "id": "VTGSvnyFggV2"
   },
   "source": [
    "<h3>Definisikan Model Dengan Menambahkan Layer Dropout</h3>"
   ]
  },
  {
   "cell_type": "markdown",
   "metadata": {
    "colab_type": "text",
    "id": "JvgJR7-5oa7Y"
   },
   "source": [
    "Sekarang, dengan tetap menggunakan layer BatchNormalization, kita akan menambahkan layer Dropout pada arsitektur CNN kita. Ada 2 layer Dropout yang kita tambahkan. 1 layer di akhir proses feature extraction, dan 1 lagi di tengah-tengah fully connected layer."
   ]
  },
  {
   "cell_type": "code",
   "execution_count": null,
   "metadata": {
    "colab": {},
    "colab_type": "code",
    "id": "2AUGwUTKSvy9"
   },
   "outputs": [],
   "source": [
    "# Feature Extraction Layer\n",
    "model2 = Sequential()\n",
    "\n",
    "model2.add(InputLayer(input_shape=[150,150,3]))\n",
    "model2.add(Conv2D(filters=16, kernel_size=3, strides=1, padding='same', activation='relu'))\n",
    "model2.add(BatchNormalization())\n",
    "model2.add(MaxPool2D(pool_size=2, padding='same'))\n",
    "model2.add(Conv2D(filters=32, kernel_size=3, strides=1, padding='same', activation='relu'))\n",
    "model2.add(BatchNormalization())\n",
    "model2.add(MaxPool2D(pool_size=2, padding='same'))\n",
    "model2.add(Conv2D(filters=64, kernel_size=3, strides=1, padding='same', activation='relu'))\n",
    "model2.add(BatchNormalization())\n",
    "model2.add(MaxPool2D(pool_size=2, padding='same'))\n",
    "model2.add(Dropout(0.25))\n",
    "model2.add(Flatten())"
   ]
  },
  {
   "cell_type": "code",
   "execution_count": null,
   "metadata": {
    "colab": {},
    "colab_type": "code",
    "id": "NsW-WNvCg62P"
   },
   "outputs": [],
   "source": [
    "# Fully Connected Layer\n",
    "model2.add(Dense(128, activation='relu'))\n",
    "model2.add(Dropout(0.5))\n",
    "model2.add(Dense(1, activation='sigmoid'))"
   ]
  },
  {
   "cell_type": "code",
   "execution_count": null,
   "metadata": {
    "colab": {
     "base_uri": "https://localhost:8080/",
     "height": 646
    },
    "colab_type": "code",
    "executionInfo": {
     "elapsed": 595,
     "status": "ok",
     "timestamp": 1595909761633,
     "user": {
      "displayName": "Yufis Azhar",
      "photoUrl": "https://lh3.googleusercontent.com/a-/AOh14Gj3OobbsM5qDia0Zn6NK3lrkIBbxJIeOBBWJWfv=s64",
      "userId": "06581129787675983896"
     },
     "user_tz": -420
    },
    "id": "iQ0KZq_7hCKy",
    "outputId": "6412b835-b896-4b34-c0f1-b643aa380fc0"
   },
   "outputs": [
    {
     "name": "stdout",
     "output_type": "stream",
     "text": [
      "Model: \"sequential_3\"\n",
      "_________________________________________________________________\n",
      "Layer (type)                 Output Shape              Param #   \n",
      "=================================================================\n",
      "conv2d_9 (Conv2D)            (None, 150, 150, 16)      448       \n",
      "_________________________________________________________________\n",
      "batch_normalization_11 (Batc (None, 150, 150, 16)      64        \n",
      "_________________________________________________________________\n",
      "max_pooling2d_9 (MaxPooling2 (None, 75, 75, 16)        0         \n",
      "_________________________________________________________________\n",
      "conv2d_10 (Conv2D)           (None, 75, 75, 32)        4640      \n",
      "_________________________________________________________________\n",
      "batch_normalization_12 (Batc (None, 75, 75, 32)        128       \n",
      "_________________________________________________________________\n",
      "max_pooling2d_10 (MaxPooling (None, 38, 38, 32)        0         \n",
      "_________________________________________________________________\n",
      "conv2d_11 (Conv2D)           (None, 38, 38, 64)        18496     \n",
      "_________________________________________________________________\n",
      "batch_normalization_13 (Batc (None, 38, 38, 64)        256       \n",
      "_________________________________________________________________\n",
      "max_pooling2d_11 (MaxPooling (None, 19, 19, 64)        0         \n",
      "_________________________________________________________________\n",
      "dropout (Dropout)            (None, 19, 19, 64)        0         \n",
      "_________________________________________________________________\n",
      "flatten_3 (Flatten)          (None, 23104)             0         \n",
      "_________________________________________________________________\n",
      "dense_6 (Dense)              (None, 128)               2957440   \n",
      "_________________________________________________________________\n",
      "dropout_1 (Dropout)          (None, 128)               0         \n",
      "_________________________________________________________________\n",
      "dense_7 (Dense)              (None, 1)                 129       \n",
      "=================================================================\n",
      "Total params: 2,981,601\n",
      "Trainable params: 2,981,377\n",
      "Non-trainable params: 224\n",
      "_________________________________________________________________\n",
      "None\n"
     ]
    }
   ],
   "source": [
    "# Print model summary\n",
    "print(model2.summary())"
   ]
  },
  {
   "cell_type": "code",
   "execution_count": null,
   "metadata": {
    "colab": {},
    "colab_type": "code",
    "id": "8-ur8E1VhHAC"
   },
   "outputs": [],
   "source": [
    "# Compile model\n",
    "model2.compile(optimizer=Adam(lr=0.001), \n",
    "              loss='binary_crossentropy', \n",
    "              metrics=['acc'])"
   ]
  },
  {
   "cell_type": "markdown",
   "metadata": {
    "colab_type": "text",
    "id": "pIod8ZB6hLSK"
   },
   "source": [
    "<h3>Training Model</h3>"
   ]
  },
  {
   "cell_type": "code",
   "execution_count": null,
   "metadata": {
    "colab": {
     "base_uri": "https://localhost:8080/",
     "height": 527
    },
    "colab_type": "code",
    "executionInfo": {
     "elapsed": 921499,
     "status": "ok",
     "timestamp": 1595910701662,
     "user": {
      "displayName": "Yufis Azhar",
      "photoUrl": "https://lh3.googleusercontent.com/a-/AOh14Gj3OobbsM5qDia0Zn6NK3lrkIBbxJIeOBBWJWfv=s64",
      "userId": "06581129787675983896"
     },
     "user_tz": -420
    },
    "id": "lfgliBKyhKlS",
    "outputId": "1788a770-7b27-4753-f96e-e518238fa7e1"
   },
   "outputs": [
    {
     "name": "stdout",
     "output_type": "stream",
     "text": [
      "Epoch 1/15\n",
      "100/100 [==============================] - 62s 618ms/step - loss: 1.4800 - acc: 0.5765 - val_loss: 1.1417 - val_acc: 0.5340\n",
      "Epoch 2/15\n",
      "100/100 [==============================] - 61s 605ms/step - loss: 0.6295 - acc: 0.6490 - val_loss: 2.6491 - val_acc: 0.5200\n",
      "Epoch 3/15\n",
      "100/100 [==============================] - 61s 606ms/step - loss: 0.5612 - acc: 0.7015 - val_loss: 0.7528 - val_acc: 0.5950\n",
      "Epoch 4/15\n",
      "100/100 [==============================] - 61s 607ms/step - loss: 0.5162 - acc: 0.7485 - val_loss: 1.3139 - val_acc: 0.5940\n",
      "Epoch 5/15\n",
      "100/100 [==============================] - 61s 607ms/step - loss: 0.4741 - acc: 0.7600 - val_loss: 0.6193 - val_acc: 0.6890\n",
      "Epoch 6/15\n",
      "100/100 [==============================] - 61s 608ms/step - loss: 0.4309 - acc: 0.7915 - val_loss: 0.5879 - val_acc: 0.7200\n",
      "Epoch 7/15\n",
      "100/100 [==============================] - 60s 605ms/step - loss: 0.3700 - acc: 0.8260 - val_loss: 0.7212 - val_acc: 0.6810\n",
      "Epoch 8/15\n",
      "100/100 [==============================] - 61s 606ms/step - loss: 0.3337 - acc: 0.8440 - val_loss: 0.6054 - val_acc: 0.7230\n",
      "Epoch 9/15\n",
      "100/100 [==============================] - 60s 603ms/step - loss: 0.3039 - acc: 0.8630 - val_loss: 0.9412 - val_acc: 0.6400\n",
      "Epoch 10/15\n",
      "100/100 [==============================] - 61s 606ms/step - loss: 0.2768 - acc: 0.8795 - val_loss: 0.5913 - val_acc: 0.7520\n",
      "Epoch 11/15\n",
      "100/100 [==============================] - 61s 611ms/step - loss: 0.2463 - acc: 0.8825 - val_loss: 0.6517 - val_acc: 0.7480\n",
      "Epoch 12/15\n",
      "100/100 [==============================] - 61s 607ms/step - loss: 0.2077 - acc: 0.9050 - val_loss: 0.6133 - val_acc: 0.7510\n",
      "Epoch 13/15\n",
      "100/100 [==============================] - 61s 609ms/step - loss: 0.2045 - acc: 0.9085 - val_loss: 0.9636 - val_acc: 0.7170\n",
      "Epoch 14/15\n",
      "100/100 [==============================] - 61s 610ms/step - loss: 0.1654 - acc: 0.9215 - val_loss: 1.0537 - val_acc: 0.7290\n",
      "Epoch 15/15\n",
      "100/100 [==============================] - 61s 608ms/step - loss: 0.1755 - acc: 0.9165 - val_loss: 0.7384 - val_acc: 0.7190\n"
     ]
    }
   ],
   "source": [
    "H2 = model2.fit(x_train, y_train, batch_size=20, epochs=15, validation_data=(x_val, y_val))"
   ]
  },
  {
   "cell_type": "markdown",
   "metadata": {
    "colab_type": "text",
    "id": "Ka9TX5WphRLr"
   },
   "source": [
    "<h3>Evaluasi</h3>"
   ]
  },
  {
   "cell_type": "code",
   "execution_count": null,
   "metadata": {
    "colab": {
     "base_uri": "https://localhost:8080/",
     "height": 299
    },
    "colab_type": "code",
    "executionInfo": {
     "elapsed": 911765,
     "status": "ok",
     "timestamp": 1595910701670,
     "user": {
      "displayName": "Yufis Azhar",
      "photoUrl": "https://lh3.googleusercontent.com/a-/AOh14Gj3OobbsM5qDia0Zn6NK3lrkIBbxJIeOBBWJWfv=s64",
      "userId": "06581129787675983896"
     },
     "user_tz": -420
    },
    "id": "V0s0vvBdhQml",
    "outputId": "7e81e2b9-98de-427f-f401-4f57685bf23b"
   },
   "outputs": [
    {
     "data": {
      "image/png": "[encoded data removed]",
      "text/plain": [
       "<Figure size 432x288 with 1 Axes>"
      ]
     },
     "metadata": {
      "tags": []
     },
     "output_type": "display_data"
    }
   ],
   "source": [
    "plt.style.use(\"ggplot\")\n",
    "plt.figure()\n",
    "plt.plot(np.arange(0, 15), H2.history[\"loss\"], label=\"train_loss\")\n",
    "plt.plot(np.arange(0, 15), H2.history[\"val_loss\"], label=\"val_loss\")\n",
    "plt.title(\"Loss Plot\")\n",
    "plt.xlabel(\"Epoch #\")\n",
    "plt.ylabel(\"Loss\")\n",
    "plt.legend()\n",
    "plt.show()"
   ]
  },
  {
   "cell_type": "markdown",
   "metadata": {
    "colab_type": "text",
    "id": "yl0KXszMspM-"
   },
   "source": [
    "Disini terlihat penambahan layer dropout mampu menekan keadaan overfit lebih baik lagi (jika dibandingkan dengan grafik loss yang sebelumnya). Terlihat bahwa setiap kali garis loss validation akan naik, maka layer dropout akan menekannya untuk kembali turun. Sehingga rata-rata generalization gap dapat terjaga. Memang penggunaan batch normalization dan dropout terlihat tidak cukup untuk menghilangkan overfit pada kasus kita, tapi paling tidak, kondisinya sudah jauh lebih baik daripada sebelumnya. Di modul berikutnya, kita akan mempelajari teknik-teknik lain untuk menekan kondisi overfit tersebut."
   ]
  },
  {
   "cell_type": "code",
   "execution_count": null,
   "metadata": {
    "colab": {
     "base_uri": "https://localhost:8080/",
     "height": 299
    },
    "colab_type": "code",
    "executionInfo": {
     "elapsed": 911396,
     "status": "ok",
     "timestamp": 1595910702073,
     "user": {
      "displayName": "Yufis Azhar",
      "photoUrl": "https://lh3.googleusercontent.com/a-/AOh14Gj3OobbsM5qDia0Zn6NK3lrkIBbxJIeOBBWJWfv=s64",
      "userId": "06581129787675983896"
     },
     "user_tz": -420
    },
    "id": "rlWT1RXQhXld",
    "outputId": "e588b698-adfe-4de7-cf4a-bd5c5afd57bb"
   },
   "outputs": [
    {
     "data": {
      "image/png": "[encoded data removed]",
      "text/plain": [
       "<Figure size 432x288 with 1 Axes>"
      ]
     },
     "metadata": {
      "tags": []
     },
     "output_type": "display_data"
    }
   ],
   "source": [
    "plt.style.use(\"ggplot\")\n",
    "plt.figure()\n",
    "plt.plot(np.arange(0, 15), H2.history[\"acc\"], label=\"train_acc\")\n",
    "plt.plot(np.arange(0, 15), H2.history[\"val_acc\"], label=\"val_acc\")\n",
    "plt.title(\"Accuracy Plot\")\n",
    "plt.xlabel(\"Epoch #\")\n",
    "plt.ylabel(\"Acc\")\n",
    "plt.legend()\n",
    "plt.show()"
   ]
  },
  {
   "cell_type": "code",
   "execution_count": null,
   "metadata": {
    "colab": {
     "base_uri": "https://localhost:8080/",
     "height": 170
    },
    "colab_type": "code",
    "executionInfo": {
     "elapsed": 917099,
     "status": "ok",
     "timestamp": 1595910708672,
     "user": {
      "displayName": "Yufis Azhar",
      "photoUrl": "https://lh3.googleusercontent.com/a-/AOh14Gj3OobbsM5qDia0Zn6NK3lrkIBbxJIeOBBWJWfv=s64",
      "userId": "06581129787675983896"
     },
     "user_tz": -420
    },
    "id": "HN4hgS5lhbR6",
    "outputId": "58c38e31-4ee4-40dd-9a2f-c0ef00c9397e"
   },
   "outputs": [
    {
     "name": "stdout",
     "output_type": "stream",
     "text": [
      "              precision    recall  f1-score   support\n",
      "\n",
      "           0       0.76      0.64      0.70       500\n",
      "           1       0.69      0.80      0.74       500\n",
      "\n",
      "    accuracy                           0.72      1000\n",
      "   macro avg       0.72      0.72      0.72      1000\n",
      "weighted avg       0.72      0.72      0.72      1000\n",
      "\n"
     ]
    }
   ],
   "source": [
    "pred2 = model2.predict(x_val)\n",
    "labels2 = (pred2 > 0.5).astype(np.int)\n",
    "\n",
    "print(classification_report(y_val, labels2))"
   ]
  },
  {
   "cell_type": "code",
   "execution_count": null,
   "metadata": {
    "colab": {},
    "colab_type": "code",
    "id": "o3REultyhdts"
   },
   "outputs": [],
   "source": []
  }
 ],
 "metadata": {
  "colab": {
   "collapsed_sections": [],
   "name": "Modul 3 ML - Handling Overfit Problem (1).ipynb",
   "provenance": []
  },
  "kernelspec": {
   "display_name": "Python 3",
   "language": "python",
   "name": "python3"
  },
  "language_info": {
   "codemirror_mode": {
    "name": "ipython",
    "version": 3
   },
   "file_extension": ".py",
   "mimetype": "text/x-python",
   "name": "python",
   "nbconvert_exporter": "python",
   "pygments_lexer": "ipython3",
   "version": "3.8.3"
  }
 },
 "nbformat": 4,
 "nbformat_minor": 1
}
